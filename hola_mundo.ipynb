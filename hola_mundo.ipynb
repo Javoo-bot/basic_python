{
 "cells": [
  {
   "cell_type": "markdown",
   "metadata": {},
   "source": [
    "# Variables\n",
    "\n",
    "Reglas para nombres de variables:\n",
    "\n",
    "- Comienzan por letra o por guion bajo\n",
    "- No llevan espacios\n",
    "- Despues de la primera letra o guion bajo puedes usar letras, numeros y guiones bajos. \n",
    "- No se permiten caracteres especiales: (\"@\", #, &, % etc.)\n",
    "- Distingue entre mayusculas y minusculas\n",
    "- No se puede utilizar palabras reservadas (for, if, else, while, def, import, etc.)"
   ]
  },
  {
   "cell_type": "code",
   "execution_count": 3,
   "metadata": {},
   "outputs": [
    {
     "data": {
      "text/plain": [
       "5"
      ]
     },
     "execution_count": 3,
     "metadata": {},
     "output_type": "execute_result"
    }
   ],
   "source": [
    "a = 5\n",
    "a"
   ]
  },
  {
   "cell_type": "code",
   "execution_count": 5,
   "metadata": {},
   "outputs": [
    {
     "name": "stdout",
     "output_type": "stream",
     "text": [
      "5\n"
     ]
    },
    {
     "data": {
      "text/plain": [
       "10"
      ]
     },
     "execution_count": 5,
     "metadata": {},
     "output_type": "execute_result"
    }
   ],
   "source": [
    "print(a)\n",
    "a+5"
   ]
  },
  {
   "cell_type": "code",
   "execution_count": 8,
   "metadata": {},
   "outputs": [
    {
     "name": "stdout",
     "output_type": "stream",
     "text": [
      "Juan\n",
      "pablo\n"
     ]
    }
   ],
   "source": [
    "nombre = \"Juan\"\n",
    "print(nombre)\n",
    "nombre = \"pablo\"\n",
    "print(nombre)"
   ]
  },
  {
   "cell_type": "markdown",
   "metadata": {},
   "source": [
    "# Guia de estilo\n",
    "\n",
    "- Nombre de variables en minuscula\n",
    "- Separar palabras usando snake case \"primer_archivo\"\n",
    "- "
   ]
  },
  {
   "cell_type": "code",
   "execution_count": null,
   "metadata": {},
   "outputs": [],
   "source": [
    "a = 5\n",
    "b = 10 \n",
    "c = a + b\n",
    "print(c)\n",
    "\n",
    "#Modificamos el valor de la variable b\n",
    "b = 5\n",
    "\n",
    "#Imprimimos de nuevo el valor de c\n",
    "print(c)"
   ]
  },
  {
   "cell_type": "markdown",
   "metadata": {},
   "source": [
    "# Tipos\n",
    "\n",
    "Muy basicos:\n",
    "- **Enteros** : `int` : numeros enteros\n",
    "- **Flotantes** : `float` : numeros decimales\n",
    "- **Cadenas de texto**: `str` : texto entre comillas\n",
    "- **Booleanos** `bool`: valores verdaderos o falsos\n",
    "- **Ningun tipo** `None`\n",
    "\n",
    "Basicos pero no tanto:\n",
    "\n",
    "- **Listas**: `list`: Representaciones _ordenadas_ \n",
    "de elemenots que pueden contener diferentes tipos. Se definen mediante\n",
    "`[]` y los lementos van separados por `,`\n",
    "- **Conjuntos** `set`: Representan colecciones de elementos _unicos_, sin un orden especifico. Se definen mediante llaves `{}` o mediante la funcion `set()`. \n",
    "- **Tuplas** `tuple` : Son similares a las listas pero son inmutables. No se pueden modificar una vez creadas. Se definen con `()`. \n",
    "- **Diccionarios** `dict`: Representan colecciones de pares clave-valor. Se definen tambien mediante {}"
   ]
  },
  {
   "cell_type": "code",
   "execution_count": 30,
   "metadata": {},
   "outputs": [
    {
     "name": "stdout",
     "output_type": "stream",
     "text": [
      "diez naranjas\n",
      "{1, 10, 4, 15}\n"
     ]
    }
   ],
   "source": [
    "lista_de_la_compra = [\"platano\",\"diez naranjas\",\"pipas\"]\n",
    "print(lista_de_la_compra[1])\n",
    "\n",
    "#podemos definir las listas con elementos que ya tenia definidos\n",
    "a = 10\n",
    "lista_de_cosas = [\"platano\", 5, 8.8, False, a ]\n",
    "\n",
    "conjunto = {1,10,15,4, 15} #el conjunto no tiene elementos repetidos\n",
    "print(conjunto)"
   ]
  },
  {
   "cell_type": "code",
   "execution_count": 37,
   "metadata": {},
   "outputs": [
    {
     "name": "stdout",
     "output_type": "stream",
     "text": [
      "('Alumno 1', 7.5, False)\n"
     ]
    },
    {
     "ename": "TypeError",
     "evalue": "'tuple' object does not support item assignment",
     "output_type": "error",
     "traceback": [
      "\u001b[1;31m---------------------------------------------------------------------------\u001b[0m",
      "\u001b[1;31mTypeError\u001b[0m                                 Traceback (most recent call last)",
      "Cell \u001b[1;32mIn[37], line 4\u001b[0m\n\u001b[0;32m      1\u001b[0m una_tupla \u001b[38;5;241m=\u001b[39m (\u001b[38;5;124m\"\u001b[39m\u001b[38;5;124mAlumno 1\u001b[39m\u001b[38;5;124m\"\u001b[39m, \u001b[38;5;241m7.5\u001b[39m, \u001b[38;5;28;01mFalse\u001b[39;00m)\n\u001b[0;32m      2\u001b[0m \u001b[38;5;28mprint\u001b[39m(una_tupla)\n\u001b[1;32m----> 4\u001b[0m \u001b[43muna_tupla\u001b[49m\u001b[43m[\u001b[49m\u001b[38;5;241;43m1\u001b[39;49m\u001b[43m]\u001b[49m \u001b[38;5;241m=\u001b[39m \u001b[38;5;241m8.5\u001b[39m\n\u001b[0;32m      5\u001b[0m \u001b[38;5;28mprint\u001b[39m(una_tupla)\n",
      "\u001b[1;31mTypeError\u001b[0m: 'tuple' object does not support item assignment"
     ]
    }
   ],
   "source": [
    "una_tupla = (\"Alumno 1\", 7.5, False)\n",
    "print(una_tupla)\n",
    "\n",
    "una_tupla[1] = 8.5 #esto no se puede hacer pq las tuplas son inmutables\n",
    "print(una_tupla) #aqui me da error "
   ]
  },
  {
   "cell_type": "code",
   "execution_count": null,
   "metadata": {},
   "outputs": [],
   "source": [
    "#para pasar una lista a conjunto\n",
    "lista_de_numero = [1,10,15,4, 15]\n",
    "lista_de_num_unicos = set(lista_de_numero)"
   ]
  },
  {
   "cell_type": "code",
   "execution_count": 34,
   "metadata": {},
   "outputs": [
    {
     "name": "stdout",
     "output_type": "stream",
     "text": [
      "20\n"
     ]
    }
   ],
   "source": [
    "#Las listas son mutables\n",
    "la_lista_mutable = [1, 10, 100]\n",
    "#Quiero que el segundo elemento, en vez de ser 10 sea 20\n",
    "la_lista_mutable[1] = 20\n",
    "print(la_lista_mutable[1])"
   ]
  },
  {
   "cell_type": "code",
   "execution_count": 10,
   "metadata": {},
   "outputs": [
    {
     "name": "stdout",
     "output_type": "stream",
     "text": [
      "Javier Lobato\n"
     ]
    }
   ],
   "source": [
    "edad = 25 #int\n",
    "altura = 1.75 #float\n",
    "nombre = \"Javier Lobato\"\n",
    "otro_nombre = 'Paco Coloco'\n",
    "texto_nuevo = '''ArithmeticError'''\n",
    "viene_a_la_cita = False #bool\n",
    "enfermedad = None\n",
    "\n",
    "print(nombre)"
   ]
  },
  {
   "cell_type": "code",
   "execution_count": 27,
   "metadata": {},
   "outputs": [
    {
     "data": {
      "text/plain": [
       "float"
      ]
     },
     "execution_count": 27,
     "metadata": {},
     "output_type": "execute_result"
    }
   ],
   "source": [
    "type(lista_de_cosas[2])"
   ]
  },
  {
   "cell_type": "code",
   "execution_count": 38,
   "metadata": {},
   "outputs": [
    {
     "name": "stdout",
     "output_type": "stream",
     "text": [
      "{'nombre': 'juan', 'num': 99}\n"
     ]
    }
   ],
   "source": [
    "dicc = {'nombre': \"Noelia\", 'num': 99, 'nombre':\"juan\"}\n",
    "print(dicc) #cuidado que nos sobreescribe la variable y no avisa"
   ]
  },
  {
   "cell_type": "code",
   "execution_count": 44,
   "metadata": {},
   "outputs": [
    {
     "data": {
      "text/plain": [
       "'255'"
      ]
     },
     "execution_count": 44,
     "metadata": {},
     "output_type": "execute_result"
    }
   ],
   "source": [
    "#transformacion\n",
    "\n",
    "a = \"25\"\n",
    "b = 5\n",
    "\n",
    "type(a)\n",
    "#a + b #solo puede concatenera str con str, nosotros tneemos str e int\n",
    "\n",
    "b = \"5\"\n",
    "a + b"
   ]
  },
  {
   "cell_type": "code",
   "execution_count": 45,
   "metadata": {},
   "outputs": [
    {
     "data": {
      "text/plain": [
       "'22'"
      ]
     },
     "execution_count": 45,
     "metadata": {},
     "output_type": "execute_result"
    }
   ],
   "source": [
    "a = \"2\"\n",
    "b = \"2\"\n",
    "a + b"
   ]
  },
  {
   "cell_type": "code",
   "execution_count": 50,
   "metadata": {},
   "outputs": [
    {
     "name": "stdout",
     "output_type": "stream",
     "text": [
      "4\n",
      "22\n"
     ]
    }
   ],
   "source": [
    "#forzar la conversion: castear\n",
    "print(int(a)+ int(b))\n",
    "\n",
    "print(str(a)+ str(b))"
   ]
  },
  {
   "cell_type": "code",
   "execution_count": 51,
   "metadata": {},
   "outputs": [
    {
     "ename": "ValueError",
     "evalue": "invalid literal for int() with base 10: '25a'",
     "output_type": "error",
     "traceback": [
      "\u001b[1;31m---------------------------------------------------------------------------\u001b[0m",
      "\u001b[1;31mValueError\u001b[0m                                Traceback (most recent call last)",
      "Cell \u001b[1;32mIn[51], line 3\u001b[0m\n\u001b[0;32m      1\u001b[0m e \u001b[38;5;241m=\u001b[39m \u001b[38;5;124m\"\u001b[39m\u001b[38;5;124m25a\u001b[39m\u001b[38;5;124m\"\u001b[39m\n\u001b[0;32m      2\u001b[0m f \u001b[38;5;241m=\u001b[39m \u001b[38;5;241m5\u001b[39m\n\u001b[1;32m----> 3\u001b[0m \u001b[38;5;28mprint\u001b[39m(\u001b[38;5;28;43mint\u001b[39;49m\u001b[43m(\u001b[49m\u001b[43me\u001b[49m\u001b[43m)\u001b[49m\u001b[38;5;241m+\u001b[39mf)\n",
      "\u001b[1;31mValueError\u001b[0m: invalid literal for int() with base 10: '25a'"
     ]
    }
   ],
   "source": [
    "e = \"25a\"\n",
    "f = 5\n",
    "print(int(e)+f)"
   ]
  },
  {
   "cell_type": "markdown",
   "metadata": {},
   "source": [
    "# Operadores \n",
    "\n",
    "- aritmeticos\n",
    "   - suma + \n",
    "   - resta -\n",
    "   - multiplicacion *\n",
    "   - division /\n",
    "   - modulo  %\n",
    "   - exponenciacion **\n",
    "- de comparacion\n",
    "   - igual ==\n",
    "   - diferente !=\n",
    "   - mayor que >\n",
    "   - menor que <\n",
    "   - mayor o igual que >=\n",
    "   - menor o igual que <=\n",
    "- logicos\n"
   ]
  },
  {
   "cell_type": "code",
   "execution_count": 61,
   "metadata": {},
   "outputs": [
    {
     "name": "stdout",
     "output_type": "stream",
     "text": [
      "7\n",
      "1000\n"
     ]
    },
    {
     "data": {
      "text/plain": [
       "int"
      ]
     },
     "execution_count": 61,
     "metadata": {},
     "output_type": "execute_result"
    }
   ],
   "source": [
    "# Operadores aritmeticos\n",
    "\n",
    "a = 10\n",
    "b = 3\n",
    "op = a + b\n",
    "op = a -b\n",
    "print(op)\n",
    "op = a * b\n",
    "op = a % b\n",
    "op = a ** b\n",
    "print(op)\n",
    "type(op) #el input y output es del mismo tipo en las sumas y restas"
   ]
  },
  {
   "cell_type": "code",
   "execution_count": 64,
   "metadata": {},
   "outputs": [
    {
     "name": "stdout",
     "output_type": "stream",
     "text": [
      "10\n",
      "15\n"
     ]
    },
    {
     "data": {
      "text/plain": [
       "75"
      ]
     },
     "execution_count": 64,
     "metadata": {},
     "output_type": "execute_result"
    }
   ],
   "source": [
    "a = 10\n",
    "print(a)\n",
    "a += 5\n",
    "print(a)\n",
    "\n",
    "a *+ 5 #para multiplicar"
   ]
  },
  {
   "cell_type": "code",
   "execution_count": 70,
   "metadata": {},
   "outputs": [
    {
     "name": "stdout",
     "output_type": "stream",
     "text": [
      "False\n"
     ]
    },
    {
     "ename": "TypeError",
     "evalue": "'<' not supported between instances of 'int' and 'str'",
     "output_type": "error",
     "traceback": [
      "\u001b[1;31m---------------------------------------------------------------------------\u001b[0m",
      "\u001b[1;31mTypeError\u001b[0m                                 Traceback (most recent call last)",
      "Cell \u001b[1;32mIn[70], line 10\u001b[0m\n\u001b[0;32m      6\u001b[0m \u001b[38;5;28mprint\u001b[39m(valor_de_verdad)\n\u001b[0;32m      8\u001b[0m x \u001b[38;5;241m<\u001b[39m y \u001b[38;5;241m<\u001b[39m z\n\u001b[1;32m---> 10\u001b[0m \u001b[43mx\u001b[49m\u001b[43m \u001b[49m\u001b[38;5;241;43m<\u001b[39;49m\u001b[43m \u001b[49m\u001b[43my\u001b[49m\u001b[43m \u001b[49m\u001b[38;5;241;43m<\u001b[39;49m\u001b[43m \u001b[49m\u001b[38;5;124;43m\"\u001b[39;49m\u001b[38;5;124;43mFalse\u001b[39;49m\u001b[38;5;124;43m\"\u001b[39;49m\n",
      "\u001b[1;31mTypeError\u001b[0m: '<' not supported between instances of 'int' and 'str'"
     ]
    }
   ],
   "source": [
    "x = 5\n",
    "y = 10\n",
    "z = 7\n",
    "\n",
    "valor_de_verdad = x == y\n",
    "print(valor_de_verdad)\n",
    "\n",
    "x < y < z\n",
    "\n",
    "x < y < \"False\" #tipico error\n",
    "#esto es una evaluacion parcial y no llega al \"False\" \n",
    "#hasta cmabiar los datos "
   ]
  },
  {
   "cell_type": "markdown",
   "metadata": {},
   "source": [
    " 19Condicionales "
   ]
  },
  {
   "cell_type": "code",
   "execution_count": 1,
   "metadata": {},
   "outputs": [
    {
     "name": "stdout",
     "output_type": "stream",
     "text": [
      "Es 5\n"
     ]
    }
   ],
   "source": [
    "x = 5\n",
    "if x == 5:\n",
    "    print(\"Es 5\")\n",
    "else:\n",
    "    print(\"No es 5\")"
   ]
  },
  {
   "cell_type": "code",
   "execution_count": 10,
   "metadata": {},
   "outputs": [
    {
     "name": "stdout",
     "output_type": "stream",
     "text": [
      "Nota invalida\n"
     ]
    }
   ],
   "source": [
    "x = -8\n",
    "if x < 0 or x > 10:\n",
    "    print(\"Nota invalida\")\n",
    "else:    \n",
    "\n",
    "   if x == 5:\n",
    "    print(\"Es 5\")\n",
    "   elif x == 6:\n",
    "    print(\"Es 6\")\n",
    "   elif x == 7:\n",
    "    print(\"Es 7\")\n",
    "   else:\n",
    "    print(\"Es otro\")"
   ]
  },
  {
   "cell_type": "markdown",
   "metadata": {},
   "source": [
    "Estrucutra ternaria"
   ]
  },
  {
   "cell_type": "code",
   "execution_count": null,
   "metadata": {},
   "outputs": [],
   "source": [
    "x = 5\n",
    "print(\"Es 5\" if x == 5 else \"No es 5\")\n",
    "#Es 5"
   ]
  },
  {
   "cell_type": "code",
   "execution_count": 14,
   "metadata": {},
   "outputs": [
    {
     "name": "stdout",
     "output_type": "stream",
     "text": [
      "True\n"
     ]
    }
   ],
   "source": [
    "# _Nunca hacer esto!!!!_\n",
    "\n",
    "x = 5\n",
    "if x == 5:\n",
    "    resultado = True\n",
    "    print(resultado)\n",
    "else:\n",
    "    resultado = False\n",
    "    print(resultado)\n",
    "\n",
    "resultado = condicion  #No hacer esto"
   ]
  },
  {
   "cell_type": "markdown",
   "metadata": {},
   "source": [
    "Bucle \"for\""
   ]
  },
  {
   "cell_type": "code",
   "execution_count": 15,
   "metadata": {},
   "outputs": [
    {
     "name": "stdout",
     "output_type": "stream",
     "text": [
      "0\n",
      "1\n",
      "2\n",
      "3\n",
      "4\n"
     ]
    }
   ],
   "source": [
    "for i in range(0, 5):\n",
    "    print(i)"
   ]
  },
  {
   "cell_type": "markdown",
   "metadata": {},
   "source": [
    "Bucle \"while\""
   ]
  },
  {
   "cell_type": "code",
   "execution_count": 20,
   "metadata": {},
   "outputs": [
    {
     "name": "stdout",
     "output_type": "stream",
     "text": [
      "4\n",
      "3\n",
      "2\n",
      "1\n",
      "0\n"
     ]
    }
   ],
   "source": [
    "x = 5\n",
    "while x > 0:\n",
    "    x-=1\n",
    "    print(x)\n",
    "\n",
    "# Salida: 4,3,2,1,0"
   ]
  },
  {
   "cell_type": "markdown",
   "metadata": {},
   "source": [
    "Calcula el área de un triángulo dado su base y altura. Muestra el mensaje “El área del triángulo es: …”\n",
    "Convierte grados Celsius a grados Fahrenheit utilizando la fórmula: Fahrenheit = (Celsius * 9/5) + 32. Muestra el mensaje “La temperatura en grados Fahrenheit es: …”\n",
    "Escribe un programa que calcule el precio total de una compra después de aplicar un descuento. Se proporciona el precio original del artículo y el porcentaje de descuento. El precio total se calcula como: Precio total = Precio original - (Precio original * Porcentaje de descuento / 100). Muestra el mensaje “El precio total con descuento es: …”\n",
    "Comprueba si un número dado es divisible por 3 y por 5\n",
    "Clasifica la edad de una persona teniendo en cuenta que [0, 18] es “menor de edad”, [18, 65] es “adulto” y los mayores de esas edad serán “adulto mayor”.\n",
    "Calcular el total a pagar por una compra sabiendo que si el importe es superior a 100€ se aplica un 10% de descuento al precio final.\n",
    "Escribe un programa que calcule la suma de todos los números pares del 1 al N.\n",
    "Escribe un programa que genere la tabla de multiplicar de un número.\n",
    "Escribe un programa que a partir de una lista de números y muestre los números pares en la lista.\n",
    "Escribe un programa que tome una lista de números y encuentre el número mayor y el número menor en la lista.\n",
    "Escribe un programa que tome una lista de elementos y elimine los elementos duplicados, dejando solo una instancia de cada elemento en la lista."
   ]
  },
  {
   "cell_type": "code",
   "execution_count": 27,
   "metadata": {},
   "outputs": [
    {
     "name": "stdout",
     "output_type": "stream",
     "text": [
      "El area del triangulo (a+b)/c es 3.5\n"
     ]
    }
   ],
   "source": [
    "# Definimos una variable x con una cadena\n",
    "x = \"El area del triangulo (a+b)/c es\"\n",
    "\n",
    "# Podemos realizar múltiples asignaciones\n",
    "altura, base, c = 4, 3, 2\n",
    "\n",
    "# Realizamos unas operaciones con a,b,c\n",
    "d = (a + b) / c\n",
    "\n",
    "# Definimos una variable booleana\n",
    "imprimir = True\n",
    "\n",
    "# Si imprimir, print()\n",
    "if imprimir:\n",
    "    print(x, d)"
   ]
  },
  {
   "cell_type": "code",
   "execution_count": 31,
   "metadata": {},
   "outputs": [
    {
     "name": "stdout",
     "output_type": "stream",
     "text": [
      "La temperatura en grados Fahrenheit es 25\n"
     ]
    }
   ],
   "source": [
    "calor = \"La temperatura en grados Fahrenheit es\"\n",
    "\n",
    "Celsius = 25\n",
    "\n",
    "Fahrenheit = (Celsius * 9/5) + 32\n",
    "\n",
    "if imprimir:\n",
    "    print(calor, Celsius)\n",
    "\n"
   ]
  },
  {
   "cell_type": "code",
   "execution_count": 36,
   "metadata": {},
   "outputs": [
    {
     "name": "stdout",
     "output_type": "stream",
     "text": [
      "El precio total con descuento es: 14.88\n"
     ]
    }
   ],
   "source": [
    "mensaje = \"El precio total con descuento es:\"\n",
    "\n",
    "Precio_original, Porcentaje_descuento = 15, 0.8\n",
    "\n",
    "Precio_total = Precio_original - (Precio_original * Porcentaje_descuento / 100)\n",
    "\n",
    "if imprimir:\n",
    "    print(mensaje, Precio_total)"
   ]
  },
  {
   "cell_type": "code",
   "execution_count": 41,
   "metadata": {},
   "outputs": [
    {
     "name": "stdout",
     "output_type": "stream",
     "text": [
      "Es adulto\n"
     ]
    }
   ],
   "source": [
    "edad = 27\n",
    "if edad < 18:\n",
    "    print(\"Es menor de edad\")\n",
    "elif edad > 18 or edad < 65:\n",
    "    print(\"Es adulto\")\n",
    "else:\n",
    "    print(\"Es adulto mayor\")"
   ]
  },
  {
   "cell_type": "code",
   "execution_count": 43,
   "metadata": {},
   "outputs": [
    {
     "name": "stdout",
     "output_type": "stream",
     "text": [
      "112.5\n"
     ]
    }
   ],
   "source": [
    "compra = 125\n",
    "if compra > 100:\n",
    "  rebaja = compra * 0.9\n",
    "  print(rebaja)\n",
    "else:\n",
    "    print(compra)"
   ]
  },
  {
   "cell_type": "code",
   "execution_count": 67,
   "metadata": {},
   "outputs": [
    {
     "name": "stdout",
     "output_type": "stream",
     "text": [
      "30\n"
     ]
    }
   ],
   "source": [
    "#Escribe un programa que calcule la suma de todos los números pares del 1 al N.\n",
    "N = 10\n",
    "def es_par(i):\n",
    "    return i % 2 == 0  \n",
    "pares = [i for i in range(1, N + 1) if es_par(i)]\n",
    "suma_pares = sum(pares); print(suma_pares)"
   ]
  },
  {
   "cell_type": "code",
   "execution_count": 61,
   "metadata": {},
   "outputs": [
    {
     "name": "stdout",
     "output_type": "stream",
     "text": [
      "[0, 1, 4, 9, 16]\n"
     ]
    }
   ],
   "source": [
    "#Escribe un programa que genere la tabla de multiplicar de un número.\n",
    "cuadrados = [i**2 for i in range(5)]; print(cuadrados)"
   ]
  },
  {
   "cell_type": "code",
   "execution_count": 65,
   "metadata": {},
   "outputs": [
    {
     "name": "stdout",
     "output_type": "stream",
     "text": [
      "2\n",
      "4\n"
     ]
    }
   ],
   "source": [
    "lista = [1, 2, 3, 4]\n",
    "\n",
    "# Recorrer la lista y mostrar solo los números pares\n",
    "for l in lista:\n",
    "    if l % 2 == 0:  # Verificar si el número es par\n",
    "        print(l)"
   ]
  },
  {
   "cell_type": "markdown",
   "metadata": {},
   "source": [
    "Escribe un programa que tome una lista de elementos y elimine los elementos duplicados, dejando solo una instancia de cada elemento en la lista."
   ]
  },
  {
   "cell_type": "code",
   "execution_count": 70,
   "metadata": {},
   "outputs": [
    {
     "name": "stdout",
     "output_type": "stream",
     "text": [
      "1\n",
      "4\n"
     ]
    }
   ],
   "source": [
    "lista = [1, 2, 3, 4]\n",
    "for l in lista:\n",
    "    if l == min(lista):\n",
    "        print(l)\n",
    "    if l == max(lista):\n",
    "        print(l)    "
   ]
  },
  {
   "cell_type": "code",
   "execution_count": 72,
   "metadata": {},
   "outputs": [
    {
     "name": "stdout",
     "output_type": "stream",
     "text": [
      "{8, 5, 6, 7}\n"
     ]
    }
   ],
   "source": [
    "s = set([5, 5, 6, 7, 8])\n",
    "print(s)   "
   ]
  }
 ],
 "metadata": {
  "kernelspec": {
   "display_name": "basic_python",
   "language": "python",
   "name": "python3"
  },
  "language_info": {
   "codemirror_mode": {
    "name": "ipython",
    "version": 3
   },
   "file_extension": ".py",
   "mimetype": "text/x-python",
   "name": "python",
   "nbconvert_exporter": "python",
   "pygments_lexer": "ipython3",
   "version": "3.11.4"
  }
 },
 "nbformat": 4,
 "nbformat_minor": 2
}
