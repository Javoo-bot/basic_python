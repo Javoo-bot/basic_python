{
 "cells": [
  {
   "cell_type": "code",
   "execution_count": null,
   "metadata": {},
   "outputs": [],
   "source": [
    "'''\n",
    "examen 21 octubre:bases de datos\n",
    "presentacion mineria 4 noviembre\n",
    "examen final -> diciembre\n",
    "'''"
   ]
  },
  {
   "cell_type": "markdown",
   "metadata": {},
   "source": [
    "# Variables\n",
    "\n",
    "Reglas para nombres de variables:\n",
    "\n",
    "- Comienzan por letra o por guion bajo\n",
    "- No llevan espacios\n",
    "- Despues de la primera letra o guion bajo puedes usar letras, numeros y guiones bajos. \n",
    "- No se permiten caracteres especiales: (\"@\", #, &, % etc.)\n",
    "- Distingue entre mayusculas y minusculas\n",
    "- No se puede utilizar palabras reservadas (for, if, else, while, def, import, etc.)"
   ]
  },
  {
   "cell_type": "code",
   "execution_count": 3,
   "metadata": {},
   "outputs": [
    {
     "data": {
      "text/plain": [
       "5"
      ]
     },
     "execution_count": 3,
     "metadata": {},
     "output_type": "execute_result"
    }
   ],
   "source": [
    "a = 5\n",
    "a"
   ]
  },
  {
   "cell_type": "code",
   "execution_count": 5,
   "metadata": {},
   "outputs": [
    {
     "name": "stdout",
     "output_type": "stream",
     "text": [
      "5\n"
     ]
    },
    {
     "data": {
      "text/plain": [
       "10"
      ]
     },
     "execution_count": 5,
     "metadata": {},
     "output_type": "execute_result"
    }
   ],
   "source": [
    "print(a)\n",
    "a+5"
   ]
  },
  {
   "cell_type": "code",
   "execution_count": 8,
   "metadata": {},
   "outputs": [
    {
     "name": "stdout",
     "output_type": "stream",
     "text": [
      "Juan\n",
      "pablo\n"
     ]
    }
   ],
   "source": [
    "nombre = \"Juan\"\n",
    "print(nombre)\n",
    "nombre = \"pablo\"\n",
    "print(nombre)"
   ]
  },
  {
   "cell_type": "markdown",
   "metadata": {},
   "source": [
    "# Guia de estilo\n",
    "\n",
    "- Nombre de variables en minuscula\n",
    "- Separar palabras usando snake case \"primer_archivo\"\n",
    "- "
   ]
  },
  {
   "cell_type": "code",
   "execution_count": null,
   "metadata": {},
   "outputs": [],
   "source": [
    "a = 5\n",
    "b = 10 \n",
    "c = a + b\n",
    "print(c)\n",
    "\n",
    "#Modificamos el valor de la variable b\n",
    "b = 5\n",
    "\n",
    "#Imprimimos de nuevo el valor de c\n",
    "print(c)"
   ]
  },
  {
   "cell_type": "markdown",
   "metadata": {},
   "source": [
    "# Tipos\n",
    "\n",
    "Muy basicos:\n",
    "- **Enteros** : `int` : numeros enteros\n",
    "- **Flotantes** : `float` : numeros decimales\n",
    "- **Cadenas de texto**: `str` : texto entre comillas\n",
    "- **Booleanos** `bool`: valores verdaderos o falsos\n",
    "- **Ningun tipo** `None`\n",
    "\n",
    "Basicos pero no tanto:\n",
    "\n",
    "- **Listas**: `list`: Representaciones _ordenadas_ \n",
    "de elemenots que pueden contener diferentes tipos. Se definen mediante\n",
    "`[]` y los lementos van separados por `,`\n",
    "- **Conjuntos** `set`: Representan colecciones de elementos _unicos_, sin un orden especifico. Se definen mediante llaves `{}` o mediante la funcion `set()`. \n",
    "- **Tuplas** `tuple` : Son similares a las listas pero son inmutables. No se pueden modificar una vez creadas. Se definen con `()`. \n",
    "- **Diccionarios** `dict`: Representan colecciones de pares clave-valor. Se definen tambien mediante {}"
   ]
  },
  {
   "cell_type": "code",
   "execution_count": 30,
   "metadata": {},
   "outputs": [
    {
     "name": "stdout",
     "output_type": "stream",
     "text": [
      "diez naranjas\n",
      "{1, 10, 4, 15}\n"
     ]
    }
   ],
   "source": [
    "lista_de_la_compra = [\"platano\",\"diez naranjas\",\"pipas\"]\n",
    "print(lista_de_la_compra[1])\n",
    "\n",
    "#podemos definir las listas con elementos que ya tenia definidos\n",
    "a = 10\n",
    "lista_de_cosas = [\"platano\", 5, 8.8, False, a ]\n",
    "\n",
    "conjunto = {1,10,15,4, 15} #el conjunto no tiene elementos repetidos\n",
    "print(conjunto)"
   ]
  },
  {
   "cell_type": "code",
   "execution_count": 37,
   "metadata": {},
   "outputs": [
    {
     "name": "stdout",
     "output_type": "stream",
     "text": [
      "('Alumno 1', 7.5, False)\n"
     ]
    },
    {
     "ename": "TypeError",
     "evalue": "'tuple' object does not support item assignment",
     "output_type": "error",
     "traceback": [
      "\u001b[1;31m---------------------------------------------------------------------------\u001b[0m",
      "\u001b[1;31mTypeError\u001b[0m                                 Traceback (most recent call last)",
      "Cell \u001b[1;32mIn[37], line 4\u001b[0m\n\u001b[0;32m      1\u001b[0m una_tupla \u001b[38;5;241m=\u001b[39m (\u001b[38;5;124m\"\u001b[39m\u001b[38;5;124mAlumno 1\u001b[39m\u001b[38;5;124m\"\u001b[39m, \u001b[38;5;241m7.5\u001b[39m, \u001b[38;5;28;01mFalse\u001b[39;00m)\n\u001b[0;32m      2\u001b[0m \u001b[38;5;28mprint\u001b[39m(una_tupla)\n\u001b[1;32m----> 4\u001b[0m \u001b[43muna_tupla\u001b[49m\u001b[43m[\u001b[49m\u001b[38;5;241;43m1\u001b[39;49m\u001b[43m]\u001b[49m \u001b[38;5;241m=\u001b[39m \u001b[38;5;241m8.5\u001b[39m\n\u001b[0;32m      5\u001b[0m \u001b[38;5;28mprint\u001b[39m(una_tupla)\n",
      "\u001b[1;31mTypeError\u001b[0m: 'tuple' object does not support item assignment"
     ]
    }
   ],
   "source": [
    "una_tupla = (\"Alumno 1\", 7.5, False)\n",
    "print(una_tupla)\n",
    "\n",
    "una_tupla[1] = 8.5 #esto no se puede hacer pq las tuplas son inmutables\n",
    "print(una_tupla) #aqui me da error "
   ]
  },
  {
   "cell_type": "code",
   "execution_count": null,
   "metadata": {},
   "outputs": [],
   "source": [
    "#para pasar una lista a conjunto\n",
    "lista_de_numero = [1,10,15,4, 15]\n",
    "lista_de_num_unicos = set(lista_de_numero)"
   ]
  },
  {
   "cell_type": "code",
   "execution_count": 34,
   "metadata": {},
   "outputs": [
    {
     "name": "stdout",
     "output_type": "stream",
     "text": [
      "20\n"
     ]
    }
   ],
   "source": [
    "#Las listas son mutables\n",
    "la_lista_mutable = [1, 10, 100]\n",
    "#Quiero que el segundo elemento, en vez de ser 10 sea 20\n",
    "la_lista_mutable[1] = 20\n",
    "print(la_lista_mutable[1])"
   ]
  },
  {
   "cell_type": "code",
   "execution_count": 10,
   "metadata": {},
   "outputs": [
    {
     "name": "stdout",
     "output_type": "stream",
     "text": [
      "Javier Lobato\n"
     ]
    }
   ],
   "source": [
    "edad = 25 #int\n",
    "altura = 1.75 #float\n",
    "nombre = \"Javier Lobato\"\n",
    "otro_nombre = 'Paco Coloco'\n",
    "texto_nuevo = '''ArithmeticError'''\n",
    "viene_a_la_cita = False #bool\n",
    "enfermedad = None\n",
    "\n",
    "print(nombre)"
   ]
  },
  {
   "cell_type": "code",
   "execution_count": 27,
   "metadata": {},
   "outputs": [
    {
     "data": {
      "text/plain": [
       "float"
      ]
     },
     "execution_count": 27,
     "metadata": {},
     "output_type": "execute_result"
    }
   ],
   "source": [
    "type(lista_de_cosas[2])"
   ]
  },
  {
   "cell_type": "code",
   "execution_count": 38,
   "metadata": {},
   "outputs": [
    {
     "name": "stdout",
     "output_type": "stream",
     "text": [
      "{'nombre': 'juan', 'num': 99}\n"
     ]
    }
   ],
   "source": [
    "dicc = {'nombre': \"Noelia\", 'num': 99, 'nombre':\"juan\"}\n",
    "print(dicc) #cuidado que nos sobreescribe la variable y no avisa"
   ]
  },
  {
   "cell_type": "code",
   "execution_count": 44,
   "metadata": {},
   "outputs": [
    {
     "data": {
      "text/plain": [
       "'255'"
      ]
     },
     "execution_count": 44,
     "metadata": {},
     "output_type": "execute_result"
    }
   ],
   "source": [
    "#transformacion\n",
    "\n",
    "a = \"25\"\n",
    "b = 5\n",
    "\n",
    "type(a)\n",
    "#a + b #solo puede concatenera str con str, nosotros tneemos str e int\n",
    "\n",
    "b = \"5\"\n",
    "a + b"
   ]
  },
  {
   "cell_type": "code",
   "execution_count": 45,
   "metadata": {},
   "outputs": [
    {
     "data": {
      "text/plain": [
       "'22'"
      ]
     },
     "execution_count": 45,
     "metadata": {},
     "output_type": "execute_result"
    }
   ],
   "source": [
    "a = \"2\"\n",
    "b = \"2\"\n",
    "a + b"
   ]
  },
  {
   "cell_type": "code",
   "execution_count": 50,
   "metadata": {},
   "outputs": [
    {
     "name": "stdout",
     "output_type": "stream",
     "text": [
      "4\n",
      "22\n"
     ]
    }
   ],
   "source": [
    "#forzar la conversion: castear\n",
    "print(int(a)+ int(b))\n",
    "\n",
    "print(str(a)+ str(b))"
   ]
  },
  {
   "cell_type": "code",
   "execution_count": 51,
   "metadata": {},
   "outputs": [
    {
     "ename": "ValueError",
     "evalue": "invalid literal for int() with base 10: '25a'",
     "output_type": "error",
     "traceback": [
      "\u001b[1;31m---------------------------------------------------------------------------\u001b[0m",
      "\u001b[1;31mValueError\u001b[0m                                Traceback (most recent call last)",
      "Cell \u001b[1;32mIn[51], line 3\u001b[0m\n\u001b[0;32m      1\u001b[0m e \u001b[38;5;241m=\u001b[39m \u001b[38;5;124m\"\u001b[39m\u001b[38;5;124m25a\u001b[39m\u001b[38;5;124m\"\u001b[39m\n\u001b[0;32m      2\u001b[0m f \u001b[38;5;241m=\u001b[39m \u001b[38;5;241m5\u001b[39m\n\u001b[1;32m----> 3\u001b[0m \u001b[38;5;28mprint\u001b[39m(\u001b[38;5;28;43mint\u001b[39;49m\u001b[43m(\u001b[49m\u001b[43me\u001b[49m\u001b[43m)\u001b[49m\u001b[38;5;241m+\u001b[39mf)\n",
      "\u001b[1;31mValueError\u001b[0m: invalid literal for int() with base 10: '25a'"
     ]
    }
   ],
   "source": [
    "e = \"25a\"\n",
    "f = 5\n",
    "print(int(e)+f)"
   ]
  },
  {
   "cell_type": "markdown",
   "metadata": {},
   "source": [
    "# Operadores \n",
    "\n",
    "- aritmeticos\n",
    "   - suma + \n",
    "   - resta -\n",
    "   - multiplicacion *\n",
    "   - division /\n",
    "   - modulo  %\n",
    "   - exponenciacion **\n",
    "- de comparacion\n",
    "   - igual ==\n",
    "   - diferente !=\n",
    "   - mayor que >\n",
    "   - menor que <\n",
    "   - mayor o igual que >=\n",
    "   - menor o igual que <=\n",
    "- logicos\n"
   ]
  },
  {
   "cell_type": "code",
   "execution_count": 61,
   "metadata": {},
   "outputs": [
    {
     "name": "stdout",
     "output_type": "stream",
     "text": [
      "7\n",
      "1000\n"
     ]
    },
    {
     "data": {
      "text/plain": [
       "int"
      ]
     },
     "execution_count": 61,
     "metadata": {},
     "output_type": "execute_result"
    }
   ],
   "source": [
    "# Operadores aritmeticos\n",
    "\n",
    "a = 10\n",
    "b = 3\n",
    "op = a + b\n",
    "op = a -b\n",
    "print(op)\n",
    "op = a * b\n",
    "op = a % b\n",
    "op = a ** b\n",
    "print(op)\n",
    "type(op) #el input y output es del mismo tipo en las sumas y restas"
   ]
  },
  {
   "cell_type": "code",
   "execution_count": 64,
   "metadata": {},
   "outputs": [
    {
     "name": "stdout",
     "output_type": "stream",
     "text": [
      "10\n",
      "15\n"
     ]
    },
    {
     "data": {
      "text/plain": [
       "75"
      ]
     },
     "execution_count": 64,
     "metadata": {},
     "output_type": "execute_result"
    }
   ],
   "source": [
    "a = 10\n",
    "print(a)\n",
    "a += 5\n",
    "print(a)\n",
    "\n",
    "a *+ 5 #para multiplicar"
   ]
  },
  {
   "cell_type": "code",
   "execution_count": 70,
   "metadata": {},
   "outputs": [
    {
     "name": "stdout",
     "output_type": "stream",
     "text": [
      "False\n"
     ]
    },
    {
     "ename": "TypeError",
     "evalue": "'<' not supported between instances of 'int' and 'str'",
     "output_type": "error",
     "traceback": [
      "\u001b[1;31m---------------------------------------------------------------------------\u001b[0m",
      "\u001b[1;31mTypeError\u001b[0m                                 Traceback (most recent call last)",
      "Cell \u001b[1;32mIn[70], line 10\u001b[0m\n\u001b[0;32m      6\u001b[0m \u001b[38;5;28mprint\u001b[39m(valor_de_verdad)\n\u001b[0;32m      8\u001b[0m x \u001b[38;5;241m<\u001b[39m y \u001b[38;5;241m<\u001b[39m z\n\u001b[1;32m---> 10\u001b[0m \u001b[43mx\u001b[49m\u001b[43m \u001b[49m\u001b[38;5;241;43m<\u001b[39;49m\u001b[43m \u001b[49m\u001b[43my\u001b[49m\u001b[43m \u001b[49m\u001b[38;5;241;43m<\u001b[39;49m\u001b[43m \u001b[49m\u001b[38;5;124;43m\"\u001b[39;49m\u001b[38;5;124;43mFalse\u001b[39;49m\u001b[38;5;124;43m\"\u001b[39;49m\n",
      "\u001b[1;31mTypeError\u001b[0m: '<' not supported between instances of 'int' and 'str'"
     ]
    }
   ],
   "source": [
    "x = 5\n",
    "y = 10\n",
    "z = 7\n",
    "\n",
    "valor_de_verdad = x == y\n",
    "print(valor_de_verdad)\n",
    "\n",
    "x < y < z\n",
    "\n",
    "x < y < \"False\" #tipico error\n",
    "#esto es una evaluacion parcial y no llega al \"False\" \n",
    "#hasta cmabiar los datos "
   ]
  },
  {
   "cell_type": "markdown",
   "metadata": {},
   "source": [
    " 19Condicionales "
   ]
  },
  {
   "cell_type": "code",
   "execution_count": 1,
   "metadata": {},
   "outputs": [
    {
     "name": "stdout",
     "output_type": "stream",
     "text": [
      "Es 5\n"
     ]
    }
   ],
   "source": [
    "x = 5\n",
    "if x == 5:\n",
    "    print(\"Es 5\")\n",
    "else:\n",
    "    print(\"No es 5\")"
   ]
  },
  {
   "cell_type": "code",
   "execution_count": 10,
   "metadata": {},
   "outputs": [
    {
     "name": "stdout",
     "output_type": "stream",
     "text": [
      "Nota invalida\n"
     ]
    }
   ],
   "source": [
    "x = -8\n",
    "if x < 0 or x > 10:\n",
    "    print(\"Nota invalida\")\n",
    "else:    \n",
    "\n",
    "   if x == 5:\n",
    "    print(\"Es 5\")\n",
    "   elif x == 6:\n",
    "    print(\"Es 6\")\n",
    "   elif x == 7:\n",
    "    print(\"Es 7\")\n",
    "   else:\n",
    "    print(\"Es otro\")"
   ]
  },
  {
   "cell_type": "markdown",
   "metadata": {},
   "source": [
    "Estrucutra ternaria"
   ]
  },
  {
   "cell_type": "code",
   "execution_count": null,
   "metadata": {},
   "outputs": [],
   "source": [
    "x = 5\n",
    "print(\"Es 5\" if x == 5 else \"No es 5\")\n",
    "#Es 5"
   ]
  },
  {
   "cell_type": "code",
   "execution_count": 14,
   "metadata": {},
   "outputs": [
    {
     "name": "stdout",
     "output_type": "stream",
     "text": [
      "True\n"
     ]
    }
   ],
   "source": [
    "# _Nunca hacer esto!!!!_\n",
    "\n",
    "x = 5\n",
    "if x == 5:\n",
    "    resultado = True\n",
    "    print(resultado)\n",
    "else:\n",
    "    resultado = False\n",
    "    print(resultado)\n",
    "\n",
    "resultado = condicion  #No hacer esto"
   ]
  },
  {
   "cell_type": "markdown",
   "metadata": {},
   "source": [
    "Bucle \"for\""
   ]
  },
  {
   "cell_type": "code",
   "execution_count": 15,
   "metadata": {},
   "outputs": [
    {
     "name": "stdout",
     "output_type": "stream",
     "text": [
      "0\n",
      "1\n",
      "2\n",
      "3\n",
      "4\n"
     ]
    }
   ],
   "source": [
    "for i in range(0, 5):\n",
    "    print(i)"
   ]
  },
  {
   "cell_type": "markdown",
   "metadata": {},
   "source": [
    "Bucle \"while\""
   ]
  },
  {
   "cell_type": "code",
   "execution_count": 20,
   "metadata": {},
   "outputs": [
    {
     "name": "stdout",
     "output_type": "stream",
     "text": [
      "4\n",
      "3\n",
      "2\n",
      "1\n",
      "0\n"
     ]
    }
   ],
   "source": [
    "x = 5\n",
    "while x > 0:\n",
    "    x-=1\n",
    "    print(x)\n",
    "\n",
    "# Salida: 4,3,2,1,0"
   ]
  },
  {
   "cell_type": "markdown",
   "metadata": {},
   "source": [
    "## Ejercicios de Programación (1)"
   ]
  },
  {
   "cell_type": "markdown",
   "metadata": {},
   "source": [
    "\n",
    "> 1. Calcula el área de un triángulo. Dado su base y altura, muestra el mensaje: _El área del triángulo es: …_"
   ]
  },
  {
   "cell_type": "code",
   "execution_count": 27,
   "metadata": {},
   "outputs": [
    {
     "name": "stdout",
     "output_type": "stream",
     "text": [
      "El area del triangulo (a+b)/c es 3.5\n"
     ]
    }
   ],
   "source": [
    "# Definimos una variable x con una cadena\n",
    "x = \"El area del triangulo (a+b)/c es\"\n",
    "\n",
    "# Podemos realizar múltiples asignaciones\n",
    "altura, base, c = 4, 3, 2\n",
    "\n",
    "# Realizamos unas operaciones con a,b,c\n",
    "d = (a + b) / c\n",
    "\n",
    "# Definimos una variable booleana\n",
    "imprimir = True\n",
    "\n",
    "# Si imprimir, print()\n",
    "if imprimir:\n",
    "    print(x, d)"
   ]
  },
  {
   "cell_type": "markdown",
   "metadata": {},
   "source": [
    "> 2. Convierte grados Celsius a grados Fahrenheit utilizando la fórmula: _Fahrenheit = (Celsius * 9/5) + 32_"
   ]
  },
  {
   "cell_type": "code",
   "execution_count": 31,
   "metadata": {},
   "outputs": [
    {
     "name": "stdout",
     "output_type": "stream",
     "text": [
      "La temperatura en grados Fahrenheit es 25\n"
     ]
    }
   ],
   "source": [
    "calor = \"La temperatura en grados Fahrenheit es\"\n",
    "\n",
    "Celsius = 25\n",
    "\n",
    "Fahrenheit = (Celsius * 9/5) + 32\n",
    "\n",
    "if imprimir:\n",
    "    print(calor, Celsius)\n",
    "\n"
   ]
  },
  {
   "cell_type": "markdown",
   "metadata": {},
   "source": [
    "> 3. Se proporciona el precio original del artículo y el porcentaje de descuento. El precio total se calcula como: _Precio total = Precio original - (Precio original * Porcentaje de descuento / 100)_\n"
   ]
  },
  {
   "cell_type": "code",
   "execution_count": 36,
   "metadata": {},
   "outputs": [
    {
     "name": "stdout",
     "output_type": "stream",
     "text": [
      "El precio total con descuento es: 14.88\n"
     ]
    }
   ],
   "source": [
    "mensaje = \"El precio total con descuento es:\"\n",
    "\n",
    "Precio_original, Porcentaje_descuento = 15, 0.8\n",
    "\n",
    "Precio_total = Precio_original - (Precio_original * Porcentaje_descuento / 100)\n",
    "\n",
    "if imprimir:\n",
    "    print(mensaje, Precio_total)"
   ]
  },
  {
   "cell_type": "markdown",
   "metadata": {},
   "source": [
    "> 4. Escribe un programa que determine si un número dado es divisible por 3 y por 5."
   ]
  },
  {
   "cell_type": "code",
   "execution_count": 36,
   "metadata": {},
   "outputs": [
    {
     "name": "stdout",
     "output_type": "stream",
     "text": [
      "los siguientes numeros son divisibles [15, 30, 45, 60, 75, 90]\n"
     ]
    }
   ],
   "source": [
    "n = 100\n",
    "def divisibles(i):\n",
    "    return i % 3 == 0 and i % 5 == 0  #si no pongo return no funciona \n",
    "    \n",
    "divisores = [num for num in range(1, n +1) if divisibles(num)] #tengo que buscar divisibles en el num \n",
    "print(f\"los siguientes numeros son divisibles {divisores}\")"
   ]
  },
  {
   "cell_type": "markdown",
   "metadata": {},
   "source": [
    "> 5. Clasifica la edad de una persona: - [0, 18] → \"Menor de edad\", - [18, 65] → \"Adulto\", - > 65 → \"Adulto mayor\""
   ]
  },
  {
   "cell_type": "code",
   "execution_count": 41,
   "metadata": {},
   "outputs": [
    {
     "name": "stdout",
     "output_type": "stream",
     "text": [
      "Es adulto\n"
     ]
    }
   ],
   "source": [
    "edad = 27\n",
    "if edad < 18:\n",
    "    print(\"Es menor de edad\")\n",
    "elif edad > 18 or edad < 65:\n",
    "    print(\"Es adulto\")\n",
    "else:\n",
    "    print(\"Es adulto mayor\")"
   ]
  },
  {
   "cell_type": "markdown",
   "metadata": {},
   "source": [
    "> 6. Calcula el total a pagar por una compra, sabiendo que si el importe es superior a 100€, se aplica un 10% de descuento al precio final."
   ]
  },
  {
   "cell_type": "code",
   "execution_count": 43,
   "metadata": {},
   "outputs": [
    {
     "name": "stdout",
     "output_type": "stream",
     "text": [
      "112.5\n"
     ]
    }
   ],
   "source": [
    "compra = 125\n",
    "if compra > 100:\n",
    "  rebaja = compra * 0.9\n",
    "  print(rebaja)\n",
    "else:\n",
    "    print(compra)"
   ]
  },
  {
   "cell_type": "markdown",
   "metadata": {},
   "source": [
    "> 7. Escribe un programa que calcule la suma de todos los números pares del 1 al N."
   ]
  },
  {
   "cell_type": "code",
   "execution_count": 39,
   "metadata": {},
   "outputs": [
    {
     "name": "stdout",
     "output_type": "stream",
     "text": [
      "30\n"
     ]
    }
   ],
   "source": [
    "#Escribe un programa que calcule la suma de todos los números pares del 1 al N.\n",
    "n = 10\n",
    "def es_par(i):\n",
    "    return i % 2 == 0  \n",
    "\n",
    "pares = [par for par in range(1, n + 1) if es_par(par)]\n",
    "suma_pares = sum(pares)\n",
    "print(suma_pares)"
   ]
  },
  {
   "cell_type": "markdown",
   "metadata": {},
   "source": [
    "> 8. Escribe un programa que genere la tabla de multiplicar de un número dado."
   ]
  },
  {
   "cell_type": "code",
   "execution_count": 62,
   "metadata": {},
   "outputs": [
    {
     "name": "stdout",
     "output_type": "stream",
     "text": [
      "5\n",
      "10\n",
      "15\n",
      "20\n",
      "25\n",
      "30\n",
      "35\n",
      "40\n",
      "45\n",
      "50\n"
     ]
    }
   ],
   "source": [
    "# Escribe un programa que genere la tabla de multiplicar de un número.\n",
    "\n",
    "def multiplos(n):\n",
    "    lista = [1,2,3,4,5,6,7,8,9,10] #suponiendo que llega hasta 10\n",
    "    for l in lista: \n",
    "        multiplos= n * l\n",
    "        print(multiplos)\n",
    "\n",
    "multiplos(5)\n",
    "\n",
    "#5 * 1 + 5 *2 + 5 *3 "
   ]
  },
  {
   "cell_type": "markdown",
   "metadata": {},
   "source": [
    "> 9. Escribe un programa que, a partir de una lista de números, muestre los números pares en la lista."
   ]
  },
  {
   "cell_type": "code",
   "execution_count": 65,
   "metadata": {},
   "outputs": [
    {
     "name": "stdout",
     "output_type": "stream",
     "text": [
      "2\n",
      "4\n"
     ]
    }
   ],
   "source": [
    "lista = [1, 2, 3, 4]\n",
    "\n",
    "# Recorrer la lista y mostrar solo los números pares\n",
    "for l in lista:\n",
    "    if l % 2 == 0:  # Verificar si el número es par\n",
    "        print(l)"
   ]
  },
  {
   "cell_type": "markdown",
   "metadata": {},
   "source": [
    "> 10. Escribe un programa que tome una lista de números y encuentre el número mayor y el número menor en la lista."
   ]
  },
  {
   "cell_type": "code",
   "execution_count": 70,
   "metadata": {},
   "outputs": [
    {
     "name": "stdout",
     "output_type": "stream",
     "text": [
      "1\n",
      "4\n"
     ]
    }
   ],
   "source": [
    "lista = [1, 2, 3, 4]\n",
    "for l in lista:\n",
    "    if l == min(lista):\n",
    "        print(l)\n",
    "    if l == max(lista):\n",
    "        print(l)    "
   ]
  },
  {
   "cell_type": "markdown",
   "metadata": {},
   "source": [
    "> 11. Escribe un programa que tome una lista de elementos y elimine los elementos duplicados, dejando solo una instancia de cada elemento en la lista."
   ]
  },
  {
   "cell_type": "code",
   "execution_count": 72,
   "metadata": {},
   "outputs": [
    {
     "name": "stdout",
     "output_type": "stream",
     "text": [
      "{8, 5, 6, 7}\n"
     ]
    }
   ],
   "source": [
    "s = set([5, 5, 6, 7, 8])\n",
    "print(s)   "
   ]
  },
  {
   "cell_type": "markdown",
   "metadata": {},
   "source": [
    "Ejercicios Moure "
   ]
  },
  {
   "cell_type": "markdown",
   "metadata": {},
   "source": [
    "Escribe un programa que muestre por consola (con un print) los\n",
    " * números de 1 a 100 (ambos incluidos y con un salto de línea entre\n",
    " * cada impresión), sustituyendo los siguientes:\n",
    " * - Múltiplos de 3 por la palabra \"fizz\".\n",
    " * - Múltiplos de 5 por la palabra \"buzz\".\n",
    " * - Múltiplos de 3 y de 5 a la vez por la palabra \"fizzbuzz\"."
   ]
  },
  {
   "cell_type": "code",
   "execution_count": 1,
   "metadata": {},
   "outputs": [
    {
     "name": "stdout",
     "output_type": "stream",
     "text": [
      "1\n",
      "2\n",
      "Fizz\n",
      "4\n",
      "Buzz\n",
      "Fizz\n",
      "7\n",
      "8\n",
      "Fizz\n",
      "Buzz\n",
      "11\n",
      "Fizz\n",
      "13\n",
      "14\n",
      "FizzBuzz\n",
      "16\n",
      "17\n",
      "Fizz\n",
      "19\n"
     ]
    }
   ],
   "source": [
    "for i in range(1, 20, 1):\n",
    "    if i % 5 == 0 and i % 3 == 0:\n",
    "        print(\"FizzBuzz\")\n",
    "    elif i % 3 == 0:\n",
    "        print(\"Fizz\")\n",
    "    elif i % 5 == 0:\n",
    "        print(\"Buzz\")\n",
    "    else:\n",
    "        print(i)"
   ]
  },
  {
   "cell_type": "markdown",
   "metadata": {},
   "source": [
    " * Escribe una función que reciba dos palabras (String) y retorne\n",
    " * verdadero o falso (Bool) según sean o no anagramas.\n",
    " * - Un Anagrama consiste en formar una palabra reordenando TODAS\n",
    " *   las letras de otra palabra inicial.\n",
    " * - NO hace falta comprobar que ambas palabras existan.\n",
    " * - Dos palabras exactamente iguales no son anagrama.\n",
    " "
   ]
  },
  {
   "cell_type": "code",
   "execution_count": null,
   "metadata": {},
   "outputs": [],
   "source": [
    "def f(a, b):\n",
    "    # Compara las longitudes de las palabras\n",
    "    if len(a) == len(b):\n",
    "        print(\"Las palabras tienen la misma longitud\")\n",
    "\n",
    "        # Compara si las palabras tienen las mismas letras, independientemente del orden\n",
    "        if sorted(a) == sorted(b):\n",
    "            print(\"Las palabras tienen las mismas letras\")\n",
    "\n",
    "            # Si tienen las mismas letras, son la misma palabra\n",
    "            if a == b:\n",
    "                print(\"Son la misma palabra\")\n",
    "            else:\n",
    "                print(\"No son la misma palabra, pero tienen las mismas letras\")\n",
    "        else:\n",
    "            print(\"Diferentes palabras: No tienen las mismas letras\")\n",
    "\n",
    "    else:\n",
    "        print(\"No son la misma palabra, tienen diferentes longitudes\")"
   ]
  },
  {
   "cell_type": "markdown",
   "metadata": {},
   "source": [
    "Escribe un programa que imprima los 50 primeros números de la sucesión\n",
    " * de Fibonacci empezando en 0.\n",
    " * - La serie Fibonacci se compone por una sucesión de números en\n",
    " *   la que el siguiente siempre es la suma de los dos anteriores.\n",
    " *   0, 1, 1, 2, 3, 5, 8, 13..."
   ]
  },
  {
   "cell_type": "code",
   "execution_count": 13,
   "metadata": {},
   "outputs": [
    {
     "name": "stdout",
     "output_type": "stream",
     "text": [
      "0\n",
      "1\n",
      "1\n",
      "2\n",
      "3\n",
      "5\n",
      "8\n",
      "13\n",
      "21\n",
      "34\n",
      "55\n",
      "89\n",
      "144\n",
      "233\n",
      "377\n",
      "610\n",
      "987\n",
      "1597\n",
      "2584\n"
     ]
    }
   ],
   "source": [
    "def fibonacci(n):\n",
    "    if n == 1:\n",
    "        return 0\n",
    "    if n == 2:\n",
    "        return 1\n",
    "    else:\n",
    "        return fibonacci(n -1) + fibonacci(n - 2)\n",
    "\n",
    "fibonacci(3)\n",
    "\n",
    "for i in range(1,20):\n",
    "    resultado = fibonacci(i)\n",
    "    print(resultado)\n",
    "\n"
   ]
  },
  {
   "cell_type": "markdown",
   "metadata": {},
   "source": [
    "## Ejercicios (2)"
   ]
  },
  {
   "cell_type": "markdown",
   "metadata": {},
   "source": [
    "> 1: Escribe una función que reciba dos números como entrada e imprima, sin devolver nada, cuál de ellos es el mayor."
   ]
  },
  {
   "cell_type": "code",
   "execution_count": 9,
   "metadata": {},
   "outputs": [
    {
     "data": {
      "text/plain": [
       "'2 es mayor que 1'"
      ]
     },
     "execution_count": 9,
     "metadata": {},
     "output_type": "execute_result"
    }
   ],
   "source": [
    "def contar(n,m):\n",
    "    if n > m:\n",
    "     print(f\"{n} es mayor que {m}\")\n",
    "    else:\n",
    "     return (f\"{m} es mayor que {n}\")\n",
    "\n",
    "contar(1,2) "
   ]
  },
  {
   "cell_type": "markdown",
   "metadata": {},
   "source": [
    ">2: Escribe una función que tome tres longitudes como entrada e indique si es posible formar un triángulo con esas longitudes. Si es posible, determina si es un triángulo equilátero, isósceles o escaleno."
   ]
  },
  {
   "cell_type": "code",
   "execution_count": 1,
   "metadata": {},
   "outputs": [
    {
     "name": "stdout",
     "output_type": "stream",
     "text": [
      "triangulo isosceles\n",
      "area del triangulo 1.6666666666666667\n"
     ]
    }
   ],
   "source": [
    "def triangulo(a,b,c):\n",
    "    if a + b > c and a +c > b and b +c > a: #Es mejor que se cumpla la condicion fundamental y si funciona seguir\n",
    "      if a == b == c:\n",
    "        print('triangulo equilatero')\n",
    "      elif a == b or b ==c:\n",
    "        print('triangulo isosceles')\n",
    "      else:\n",
    "        print('triangulo esceleno')\n",
    "    \n",
    "      area = (a + b) / c\n",
    "      print(f\"area del triangulo {area}\")\n",
    "    else:\n",
    "      print('Error')\n",
    "\n",
    "triangulo(2,3,3)"
   ]
  },
  {
   "cell_type": "markdown",
   "metadata": {},
   "source": [
    ">3: Determina si un año es bisiesto. Un año es bisiesto si es divisible por 4, excepto aquellos años que son divisibles por 100 pero no por 400.\n"
   ]
  },
  {
   "cell_type": "code",
   "execution_count": 8,
   "metadata": {},
   "outputs": [
    {
     "name": "stdout",
     "output_type": "stream",
     "text": [
      "2020\n",
      "2020 es bisiesto\n"
     ]
    }
   ],
   "source": [
    "año = int(input(\"Escribe el año: \"))\n",
    "if año > 0000 and año < 2025:\n",
    "    print(año)\n",
    "    if (año% 4 == 0 and año %100 != 0) or (año % 400 == 0) :\n",
    "        print(f\"{año} es bisiesto\")\n",
    "    else:\n",
    "        print(f\"{año} no es bisiesto\")\n",
    "else:\n",
    "    print('Error')"
   ]
  },
  {
   "cell_type": "markdown",
   "metadata": {},
   "source": [
    ">4: Dado un numero entero positivo verifica si es un numero primo \n"
   ]
  },
  {
   "cell_type": "code",
   "execution_count": 2,
   "metadata": {},
   "outputs": [
    {
     "data": {
      "text/plain": [
       "True"
      ]
     },
     "execution_count": 2,
     "metadata": {},
     "output_type": "execute_result"
    }
   ],
   "source": [
    "def primo(n):\n",
    "    if n < 0 and n < 1:\n",
    "        return False\n",
    "    elif n == 1:\n",
    "        return False\n",
    "    elif n % 2 == 0 or n % 3 == 0:\n",
    "        return False\n",
    "    else:\n",
    "        return True\n",
    "    \n",
    "primo(5)    \n",
    "\n",
    "#for i in range(0, 10):\n",
    "#    resultado = primo(i)\n",
    "#    print(f\"{i} {resultado}\")"
   ]
  },
  {
   "cell_type": "markdown",
   "metadata": {},
   "source": [
    "> 5: Escribe un programa que calcule el factorial de un número entero no negativo. El factorial de un número n se calcula como el producto de todos los enteros desde 1 hasta n.\n"
   ]
  },
  {
   "cell_type": "code",
   "execution_count": 46,
   "metadata": {},
   "outputs": [
    {
     "name": "stdout",
     "output_type": "stream",
     "text": [
      "120\n"
     ]
    },
    {
     "data": {
      "text/plain": [
       "24"
      ]
     },
     "execution_count": 46,
     "metadata": {},
     "output_type": "execute_result"
    }
   ],
   "source": [
    "def factorial(n):\n",
    "    r = n\n",
    "    i = n - 1\n",
    "    while i > 1:\n",
    "        r *= i\n",
    "        i -= 1\n",
    "    return r\n",
    "print(factorial(5))\n",
    "\n",
    "#5*4 = 20 * 3 = 60 * 2 = 120 * 1"
   ]
  },
  {
   "cell_type": "markdown",
   "metadata": {},
   "source": [
    ">6: Crea un programa que convierta una calificación numérica en una calificación alfabética según la siguiente escala: - A: 90-100 - B: 80-89 - C: 70-79 - D: 60-69 - F: Menos de 60."
   ]
  },
  {
   "cell_type": "code",
   "execution_count": 76,
   "metadata": {},
   "outputs": [
    {
     "name": "stdout",
     "output_type": "stream",
     "text": [
      "Con 40 puntos tu calificacion es de: F\n"
     ]
    }
   ],
   "source": [
    "def calificacion(x):\n",
    "    if x > 90 and x <= 100:\n",
    "        return('A')\n",
    "    elif x > 80 and x <= 89:\n",
    "        return('B')\n",
    "    elif x > 70 and x <= 79:\n",
    "        return('C')\n",
    "    elif x > 60 and x <= 69:\n",
    "        return('D')\n",
    "    else:\n",
    "        return('F')\n",
    "\n",
    "x = int(input(\"Escribe tu nota: \"))\n",
    "print(f\"Con {x} puntos tu calificacion es de: {calificacion(x)}\")"
   ]
  },
  {
   "cell_type": "markdown",
   "metadata": {},
   "source": [
    ">7: Escribe un programa que tome un rango de números (inicio y fin) y muestre todos los números primos dentro de ese rango."
   ]
  },
  {
   "cell_type": "code",
   "execution_count": 77,
   "metadata": {},
   "outputs": [
    {
     "name": "stdout",
     "output_type": "stream",
     "text": [
      "[5, 7]\n"
     ]
    }
   ],
   "source": [
    "def primo(n):\n",
    "    if n < 0 and n < 1:\n",
    "        return False\n",
    "    elif n == 1:\n",
    "        return False\n",
    "    elif n % 2 == 0 or n % 3 == 0:\n",
    "        return False\n",
    "    else:\n",
    "        return True\n",
    "\n",
    "lista = [1,2,3,4,5,6,7,8,9,10] # solo funciona si defino una lista antes y los return funcion son boleanos\n",
    "\n",
    "lista_de_primos = [num for num in lista if primo(num)] \n",
    "\n",
    "print(lista_de_primos)"
   ]
  },
  {
   "cell_type": "markdown",
   "metadata": {},
   "source": [
    ">8: Escribe un programa que cuente la cantidad de dígitos en un número entero ingresado por el usuario."
   ]
  },
  {
   "cell_type": "code",
   "execution_count": 14,
   "metadata": {},
   "outputs": [
    {
     "name": "stdout",
     "output_type": "stream",
     "text": [
      "0 4\n",
      "1 5\n",
      "2 1\n",
      "3 2\n",
      "4 4\n",
      "El numero tiene 5 digitos\n"
     ]
    }
   ],
   "source": [
    "num1 = input(\"primer numero:\")\n",
    "list(num1)\n",
    "for index, l in enumerate(num1):\n",
    "    print(index, l)\n",
    "\n",
    "print(f\"El numero tiene {index +1} digitos\")"
   ]
  },
  {
   "cell_type": "markdown",
   "metadata": {},
   "source": [
    ">9: Escribe un programa que tome un mes (en forma numérica, por ejemplo, 1 para enero) y un año como entrada y muestre la cantidad de días en ese mes y año específicos. Ten en cuenta los años bisiestos."
   ]
  },
  {
   "cell_type": "code",
   "execution_count": 28,
   "metadata": {},
   "outputs": [
    {
     "name": "stdout",
     "output_type": "stream",
     "text": [
      "El mes de febrero tuvo 29 dias\n"
     ]
    }
   ],
   "source": [
    "num1 = int(input(\"mes:\"))\n",
    "num2 = int(input(\"año:\"))\n",
    "meses = [31,28,31,30,31,30,31,31,30,31,30,31]\n",
    "\n",
    "if num1 == 2:\n",
    "    if (num2 % 4 == 0 and num2 % 100 != 0) or (num2 % 400 == 0): \n",
    "        meses[1] = 29\n",
    "        print(f\"El mes de febrero tuvo {meses[1]} dias\")\n",
    "    else:\n",
    "        print(f\"En febrero del año {num2} tuvo {meses[1]} dias\")\n",
    "else:\n",
    "    print(f\"el mes {num1} del año {num2}\")"
   ]
  },
  {
   "cell_type": "markdown",
   "metadata": {},
   "source": [
    ">10: Escribe una función llamada contiene_elemento(lista, elemento) que reciba una lista y un elemento como argumentos y devuelva True si el elemento está presente en la lista, o False en caso contrario."
   ]
  },
  {
   "cell_type": "code",
   "execution_count": 46,
   "metadata": {},
   "outputs": [
    {
     "name": "stdout",
     "output_type": "stream",
     "text": [
      "La jugadora española Alexia Putellas está en el top10\n"
     ]
    },
    {
     "data": {
      "text/plain": [
       "True"
      ]
     },
     "execution_count": 46,
     "metadata": {},
     "output_type": "execute_result"
    }
   ],
   "source": [
    "def contiene_elemento(lista,elemento):\n",
    "    if elemento in lista:\n",
    "        print(f\"La jugadora española {elemento} está en el top10\") \n",
    "        return True\n",
    "    else:\n",
    "        return False\n",
    "\n",
    "mejores_jugadoras = [\n",
    "    \"Megan Rapinoe\",\n",
    "    \"Alexia Putellas\",\n",
    "    \"Sam Kerr\",\n",
    "    \"Vivianne Miedema\",\n",
    "    \"Ada Hegerberg\",\n",
    "    \"Wendie Renard\",\n",
    "    \"Lucy Bronze\",\n",
    "    \"Aitana Bonmatí\",\n",
    "    \"Christine Sinclair\",\n",
    "    \"Alex Morgan\",\n",
    "    \"Fran Kirby\",\n",
    "    \"Caroline Graham Hansen\",\n",
    "    \"Pernille Harder\",\n",
    "    \"Jennifer Hermoso\",\n",
    "    \"Marie-Antoinette Katoto\"]\n",
    "\n",
    "contiene_elemento(mejores_jugadoras, \"Alexia Putellas\")"
   ]
  },
  {
   "cell_type": "markdown",
   "metadata": {},
   "source": [
    ">11: Escribe una función llamada calcular_promedio(lista) que reciba una lista de números y devuelva el promedio de esos números."
   ]
  },
  {
   "cell_type": "code",
   "execution_count": 52,
   "metadata": {},
   "outputs": [
    {
     "name": "stdout",
     "output_type": "stream",
     "text": [
      "9.4\n"
     ]
    }
   ],
   "source": [
    "lista = [10,10,10,8,9]\n",
    "\n",
    "def calcular_promedio(x):\n",
    "    x = list(x)\n",
    "    media = sum(x)/len(x)\n",
    "    print(media)\n",
    "\n",
    "calcular_promedio(lista)\n",
    "        "
   ]
  },
  {
   "cell_type": "markdown",
   "metadata": {},
   "source": [
    ">12: Escribe una función llamada contar_vocales(cadena) que reciba una cadena de texto y devuelva el número de vocales (mayúsculas y minúsculas) en la cadena."
   ]
  },
  {
   "cell_type": "code",
   "execution_count": 70,
   "metadata": {},
   "outputs": [
    {
     "name": "stdout",
     "output_type": "stream",
     "text": [
      "['m', 'e', ' ', 'e', 'n', 'c', 'a', 'n', 't', 'a', ' ', 'p', 'r', 'o', 'g', 'r', 'a', 'm', 'a', 'r', ' ', 'm', 'e', ' ', 'h', 'a', 'c', 'e', ' ', 'm', 'u', 'y', ' ', 'f', 'e', 'l', 'i', 'z']\n",
      "13\n"
     ]
    }
   ],
   "source": [
    "def contar_vocales(x):\n",
    "    x = str(x)\n",
    "    vocales = ['a', 'e', 'i', 'o', 'u', 'A', 'E', 'I', 'O', 'U']\n",
    "    contador = 0\n",
    "    lista = [letra for letra in x] #divido la lista en letras\n",
    "    print(lista)  #para comprobar\n",
    "    for l in lista: #selecciono las letras \n",
    "        if l in vocales:  #lo habia puesto alreves \n",
    "            contador +=1\n",
    "    print(contador)\n",
    "    \n",
    "contar_vocales(\"me encanta programar me hace muy feliz\")"
   ]
  },
  {
   "cell_type": "markdown",
   "metadata": {},
   "source": [
    ">13: Escribe una función llamada ordenar_palabras(lista) que reciba una lista de palabras y devuelva una nueva lista con las palabras ordenadas alfabéticamente."
   ]
  },
  {
   "cell_type": "code",
   "execution_count": 78,
   "metadata": {},
   "outputs": [
    {
     "name": "stdout",
     "output_type": "stream",
     "text": [
      "['c', 'd', 'h', 'z']\n"
     ]
    }
   ],
   "source": [
    "def ordenar_lista(x):\n",
    "    if isinstance(x, list):\n",
    "        x.sort()\n",
    "        print(x)\n",
    "\n",
    "x = [\"h\",\"c\",\"d\",\"z\"]\n",
    "ordenar_lista(x)"
   ]
  },
  {
   "cell_type": "markdown",
   "metadata": {},
   "source": [
    ">14: Escribe una función llamada contar_elementos_unicos(lista) que reciba una lista y devuelva el número de elementos únicos en la lista."
   ]
  },
  {
   "cell_type": "code",
   "execution_count": 84,
   "metadata": {},
   "outputs": [
    {
     "name": "stdout",
     "output_type": "stream",
     "text": [
      "El numero de paises campeones del mundo es 8\n"
     ]
    }
   ],
   "source": [
    "def contar_elementos_unicos(x):\n",
    "    if isinstance(x,list):\n",
    "        print(f\"El numero de paises campeones del mundo es {len(set(x))}\")\n",
    "    else:\n",
    "        pass\n",
    "\n",
    "campeones_mundial = [\"Uruguay\", \"Italia\", \"Italia\", \"Uruguay\", \"Alemania\", \"Brasil\", \"Brasil\", \"Inglaterra\", \"Brasil\", \"Alemania\", \"Argentina\", \"Italia\", \"Argentina\", \"Alemania\", \"Brasil\", \"Francia\", \"Brasil\", \"Italia\", \"España\", \"Alemania\", \"Francia\", \"Argentina\"]\n",
    "\n",
    "contar_elementos_unicos(campeones_mundial)\n",
    "        \n",
    "    "
   ]
  },
  {
   "cell_type": "markdown",
   "metadata": {},
   "source": [
    ">15: Escribe una función llamada sumar_naturales(n) que calcule la suma de los números naturales desde 1 hasta n."
   ]
  },
  {
   "cell_type": "code",
   "execution_count": 15,
   "metadata": {},
   "outputs": [
    {
     "data": {
      "text/plain": [
       "15"
      ]
     },
     "execution_count": 15,
     "metadata": {},
     "output_type": "execute_result"
    }
   ],
   "source": [
    "#primera manera\n",
    "def sumar_naturales(n):\n",
    "    if n > 0 and n != isinstance(n,float):\n",
    "        r = 0\n",
    "        i = 1\n",
    "        while i <= n:\n",
    "            r += i\n",
    "            i += 1\n",
    "        return r\n",
    "    else:\n",
    "        return False\n",
    "sumar_naturales(5)\n",
    "\n",
    "#0 + 1 + 2 + 3 + 4 + 5 "
   ]
  },
  {
   "cell_type": "code",
   "execution_count": 14,
   "metadata": {},
   "outputs": [
    {
     "name": "stdout",
     "output_type": "stream",
     "text": [
      "15\n"
     ]
    }
   ],
   "source": [
    "#segunda manera\n",
    "n = 5\n",
    "def es_natural(i):\n",
    "    return i > 0 and i == int(i)\n",
    "\n",
    "natural = [num for num in range(1,n+1) if es_natural(num)]\n",
    "sumar_naturales = sum(natural)\n",
    "print(sumar_naturales)"
   ]
  }
 ],
 "metadata": {
  "kernelspec": {
   "display_name": "basic_python",
   "language": "python",
   "name": "python3"
  },
  "language_info": {
   "codemirror_mode": {
    "name": "ipython",
    "version": 3
   },
   "file_extension": ".py",
   "mimetype": "text/x-python",
   "name": "python",
   "nbconvert_exporter": "python",
   "pygments_lexer": "ipython3",
   "version": "3.12.6"
  }
 },
 "nbformat": 4,
 "nbformat_minor": 2
}
