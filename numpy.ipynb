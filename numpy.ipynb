{
 "cells": [
  {
   "cell_type": "code",
   "execution_count": null,
   "metadata": {},
   "outputs": [],
   "source": [
    "import numpy as np\n",
    "type(np.ones(5))\n",
    "lista = [10,20,30,20,50]\n",
    "print(type(lista))\n",
    "arr = np.array([10,20,30,20,50])\n",
    "print(arr)\n",
    "print(type(arr))"
   ]
  },
  {
   "cell_type": "code",
   "execution_count": null,
   "metadata": {},
   "outputs": [],
   "source": [
    "#1D\n",
    "arro0D = np.array([1,2,3,4])"
   ]
  },
  {
   "cell_type": "code",
   "execution_count": null,
   "metadata": {},
   "outputs": [],
   "source": [
    "#2D\n",
    "arr2d = np.array([[1,2,3], [4,5,6]])\n",
    "print(arr2d)"
   ]
  },
  {
   "cell_type": "code",
   "execution_count": null,
   "metadata": {},
   "outputs": [],
   "source": [
    "#3D\n",
    "arr3d = np.array ([\n",
    "                  [[1,2,3], [4,5,6]], \n",
    "                  [[10,20,30], [40,50,60]]\n",
    "                  ])\n",
    "print(Arr3d)\n",
    "arr3d.ndim"
   ]
  },
  {
   "cell_type": "code",
   "execution_count": null,
   "metadata": {},
   "outputs": [],
   "source": [
    "arr = np.array([10, 20, 30, 40, 50, 60, 70], ndmin=2)\n",
    "print(arr[0])\n",
    "print(arr[0,-1])\n",
    "print(arr[0,2:4])\n",
    "arr = np.array([1,2,3])\n",
    "arr + 1 #esta operacion esta vectorizada"
   ]
  },
  {
   "cell_type": "code",
   "execution_count": null,
   "metadata": {},
   "outputs": [],
   "source": [
    "arr = np.array([\n",
    "                [10,20,30,40,50],\n",
    "                [60,70,80,90,100]\n",
    "                ])\n",
    "\n",
    "#si solo le paso un num como indice a la matriz\n",
    "#me quedo con la fila entera de esa serie\n",
    "arr[0,1]\n",
    "\n",
    "arr[1, :]\n",
    "#para sacar las columnas\n",
    "arr[: , 3]\n",
    "\n",
    "#se pueden usar indices negativos\n",
    "arr[1 , -1]"
   ]
  },
  {
   "cell_type": "code",
   "execution_count": null,
   "metadata": {},
   "outputs": [],
   "source": [
    "arr = np.array([10,20,30,40,50,60,70,80])\n",
    "print(arr[1:5])\n",
    "print(arr[1:6:2])\n",
    "print(arr[:4:2]) #empiexa en el cero y salta de dos en dos \n",
    "print(arr[0:3:2]) #desde la 0 a la 3 y se salta 2"
   ]
  },
  {
   "cell_type": "code",
   "execution_count": null,
   "metadata": {},
   "outputs": [],
   "source": [
    "np.zeros(10) #inicio decimales y por defecto es un float \n",
    "np.empty(5) #nos da numeros aleatorios \n",
    "np.arange(6) #igual que el range \n",
    "a1 = np.ones(3)\n",
    "a2 = np.zeros(3)\n",
    "np.array(list(a1) + list(a2))"
   ]
  },
  {
   "cell_type": "code",
   "execution_count": null,
   "metadata": {},
   "outputs": [],
   "source": [
    "l1 = [1,2,3]\n",
    "l2 = [4,5,6]\n",
    "print(l1 +l2)\n",
    "print(a1 + a2)"
   ]
  },
  {
   "cell_type": "code",
   "execution_count": null,
   "metadata": {},
   "outputs": [],
   "source": [
    "arr1 = np.array([1,2,3])\n",
    "arr2 = np.array([4,5,6])\n",
    "x =np.hstack((arr1,arr2))\n",
    "x.shape"
   ]
  },
  {
   "cell_type": "code",
   "execution_count": null,
   "metadata": {},
   "outputs": [],
   "source": [
    "arr1 = np.array([1,2,3])\n",
    "arr2 = np.array([4,5])\n",
    "x =np.hstack((arr1,arr2))\n",
    "x.shape"
   ]
  },
  {
   "cell_type": "code",
   "execution_count": null,
   "metadata": {},
   "outputs": [],
   "source": [
    "arr1 = np.array([1,2,3])\n",
    "arr2 = np.array([4,5,6]) #tiene que tener la misma dimension\n",
    "x =np.vstack((arr1,arr2)) \n",
    "x.shape\n"
   ]
  },
  {
   "cell_type": "code",
   "execution_count": null,
   "metadata": {},
   "outputs": [],
   "source": [
    "arr1 = np.array([1,2,3], [4,5,6])\n",
    "arr2 = np.array([7,8,9]) #tiene que tener la misma dimension\n",
    "x =np.hstack((arr1,arr2)) \n",
    "x"
   ]
  }
 ],
 "metadata": {
  "kernelspec": {
   "display_name": "base",
   "language": "python",
   "name": "python3"
  },
  "language_info": {
   "name": "python",
   "version": "3.11.4"
  }
 },
 "nbformat": 4,
 "nbformat_minor": 2
}
