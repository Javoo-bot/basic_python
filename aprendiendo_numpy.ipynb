{
 "cells": [
  {
   "cell_type": "code",
   "execution_count": 3,
   "metadata": {},
   "outputs": [],
   "source": [
    "import numpy as np"
   ]
  },
  {
   "cell_type": "code",
   "execution_count": 3,
   "metadata": {},
   "outputs": [
    {
     "data": {
      "text/plain": [
       "numpy.ndarray"
      ]
     },
     "execution_count": 3,
     "metadata": {},
     "output_type": "execute_result"
    }
   ],
   "source": [
    "type(np.ones(5))"
   ]
  },
  {
   "cell_type": "code",
   "execution_count": 6,
   "metadata": {},
   "outputs": [
    {
     "name": "stdout",
     "output_type": "stream",
     "text": [
      "<class 'list'>\n",
      "[10 20 30 20 50]\n",
      "<class 'numpy.ndarray'>\n"
     ]
    }
   ],
   "source": [
    "lista = [10,20,30,20,50]\n",
    "print(type(lista))\n",
    "arr = np.array([10,20,30,20,50])\n",
    "print(arr)\n",
    "print(type(arr))"
   ]
  },
  {
   "cell_type": "code",
   "execution_count": 16,
   "metadata": {},
   "outputs": [
    {
     "name": "stdout",
     "output_type": "stream",
     "text": [
      "[[1 2 3]\n",
      " [4 5 6]]\n",
      "[[[ 1  2  3]\n",
      "  [ 4  5  6]]\n",
      "\n",
      " [[10 20 30]\n",
      "  [40 50 60]]]\n"
     ]
    }
   ],
   "source": [
    "#1D\n",
    "arro0D = np.array([1,2,3,4])\n",
    "\n",
    "#2D\n",
    "arr2d = np.array([[1,2,3], [4,5,6]])\n",
    "print(arr2d)\n",
    "\n",
    "#3D\n",
    "arr3d = np.array ([\n",
    "                  [[1,2,3], [4,5,6]], \n",
    "                  [[10,20,30], [40,50,60]]\n",
    "                  ])\n",
    "print(Arr3d)"
   ]
  },
  {
   "cell_type": "code",
   "execution_count": 17,
   "metadata": {},
   "outputs": [
    {
     "data": {
      "text/plain": [
       "3"
      ]
     },
     "execution_count": 17,
     "metadata": {},
     "output_type": "execute_result"
    }
   ],
   "source": [
    "arr3d.ndim"
   ]
  },
  {
   "cell_type": "code",
   "execution_count": 48,
   "metadata": {},
   "outputs": [
    {
     "name": "stdout",
     "output_type": "stream",
     "text": [
      "[10 20 30 40 50 60 70]\n",
      "70\n",
      "[30 40]\n"
     ]
    }
   ],
   "source": [
    "arr = np.array([10, 20, 30, 40, 50, 60, 70], ndmin=2)\n",
    "print(arr[0])\n",
    "print(arr[0,-1])\n",
    "print(arr[0,2:4])"
   ]
  },
  {
   "cell_type": "code",
   "execution_count": 50,
   "metadata": {},
   "outputs": [
    {
     "data": {
      "text/plain": [
       "array([2, 3, 4])"
      ]
     },
     "execution_count": 50,
     "metadata": {},
     "output_type": "execute_result"
    }
   ],
   "source": [
    "arr = np.array([1,2,3])\n",
    "arr + 1 #esta operacion esta vectorizada\n"
   ]
  },
  {
   "cell_type": "code",
   "execution_count": 26,
   "metadata": {},
   "outputs": [
    {
     "data": {
      "text/plain": [
       "np.int64(100)"
      ]
     },
     "execution_count": 26,
     "metadata": {},
     "output_type": "execute_result"
    }
   ],
   "source": [
    "arr = np.array([\n",
    "                [10,20,30,40,50],\n",
    "                [60,70,80,90,100]\n",
    "                ])\n",
    "\n",
    "#si solo le paso un num como indice a la matriz\n",
    "#me quedo con la fila entera de esa serie\n",
    "arr[0,1]\n",
    "\n",
    "arr[1, :]\n",
    "#para sacar las columnas\n",
    "arr[: , 3]\n",
    "#se pueden usar indices negativos\n",
    "arr[1 , -1]"
   ]
  },
  {
   "cell_type": "code",
   "execution_count": 17,
   "metadata": {},
   "outputs": [
    {
     "name": "stdout",
     "output_type": "stream",
     "text": [
      "[20 30 40 50]\n",
      "[20 40 60]\n",
      "[10 30]\n",
      "[10 30]\n"
     ]
    }
   ],
   "source": [
    "arr = np.array([10,20,30,40,50,60,70,80])\n",
    "\n",
    "print(arr[1:5])\n",
    "print(arr[1:6:2])\n",
    "print(arr[:4:2]) #empiexa en el cero y salta de dos en dos \n",
    "print(arr[0:3:2]) #desde la 0 a la 3 y se salta 2"
   ]
  },
  {
   "cell_type": "code",
   "execution_count": 21,
   "metadata": {},
   "outputs": [
    {
     "data": {
      "text/plain": [
       "array([0, 1, 2, 3, 4, 5])"
      ]
     },
     "execution_count": 21,
     "metadata": {},
     "output_type": "execute_result"
    }
   ],
   "source": [
    "np.zeros(10) #inicio decimales y por defecto es un float \n",
    "np.empty(5) #nos da numeros aleatorios \n",
    "np.arange(6) #igual que el range "
   ]
  },
  {
   "cell_type": "code",
   "execution_count": 27,
   "metadata": {},
   "outputs": [
    {
     "data": {
      "text/plain": [
       "array([1., 1., 1., 0., 0., 0.])"
      ]
     },
     "execution_count": 27,
     "metadata": {},
     "output_type": "execute_result"
    }
   ],
   "source": [
    "a1 = np.ones(3)\n",
    "a2 = np.zeros(3)\n",
    "np.array(list(a1) + list(a2))\n"
   ]
  },
  {
   "cell_type": "code",
   "execution_count": 29,
   "metadata": {},
   "outputs": [
    {
     "name": "stdout",
     "output_type": "stream",
     "text": [
      "[1, 2, 3, 4, 5, 6]\n",
      "[1. 1. 1.]\n"
     ]
    }
   ],
   "source": [
    "l1 = [1,2,3]\n",
    "l2 = [4,5,6]\n",
    "print(l1 +l2)\n",
    "print(a1 + a2)"
   ]
  },
  {
   "cell_type": "markdown",
   "metadata": {},
   "source": [
    ">1. Almacena en la variable `arr` un array con 10 ceros, 10 unos y 10 cuatros. Luego imprime el array y su número de elementos por pantalla."
   ]
  },
  {
   "cell_type": "code",
   "execution_count": 40,
   "metadata": {},
   "outputs": [
    {
     "name": "stdout",
     "output_type": "stream",
     "text": [
      "[4 4 4 4 4 4 4 4 4 4]\n",
      "[[1. 1. 1. 1. 1. 1. 1. 1. 1. 1.]\n",
      " [0. 0. 0. 0. 0. 0. 0. 0. 0. 0.]\n",
      " [4. 4. 4. 4. 4. 4. 4. 4. 4. 4.]]\n"
     ]
    }
   ],
   "source": [
    "a1 = np.ones(10)\n",
    "a2 = np.zeros(10)\n",
    "a3 = np.full(10,4)\n",
    "print(a3)\n",
    "\n",
    "arr3d = np.array ([\n",
    "                  a1, a2,a3\n",
    "                  ])\n",
    "print(arr3d)"
   ]
  },
  {
   "cell_type": "markdown",
   "metadata": {},
   "source": [
    ">2. Crea variable numeros enteros del 20 al 50."
   ]
  },
  {
   "cell_type": "code",
   "execution_count": 44,
   "metadata": {},
   "outputs": [
    {
     "name": "stdout",
     "output_type": "stream",
     "text": [
      "[20 21 22 23 24 25 26 27 28 29 30 31 32 33 34 35 36 37 38 39 40 41 42 43\n",
      " 44 45 46 47 48 49 50]\n"
     ]
    }
   ],
   "source": [
    "arr = np.arange(20,51)\n",
    "print(arr)"
   ]
  },
  {
   "cell_type": "markdown",
   "metadata": {},
   "source": [
    ">3. Crea la variable `arr` con los números pares del 20 al 50 e imprímela por pantalla."
   ]
  },
  {
   "cell_type": "code",
   "execution_count": 51,
   "metadata": {},
   "outputs": [
    {
     "name": "stdout",
     "output_type": "stream",
     "text": [
      "[20 22 24 26 28 30 32 34 36 38 40 42 44 46 48 50]\n"
     ]
    }
   ],
   "source": [
    "n = 2\n",
    "arr = np.arange(20, 50 + n, n, dtype=int)\n",
    "print(arr)"
   ]
  },
  {
   "cell_type": "markdown",
   "metadata": {},
   "source": [
    ">4. Crea la variable `arr` con los números enteros del 20 al 50 que sean múltiplo de 5 e imprímela por pantalla."
   ]
  },
  {
   "cell_type": "code",
   "execution_count": 4,
   "metadata": {},
   "outputs": [
    {
     "name": "stdout",
     "output_type": "stream",
     "text": [
      "[20 25 30 35 40 45 50]\n"
     ]
    }
   ],
   "source": [
    "arr = np.arange(20, 50+2, 5, dtype=int)\n",
    "print(arr)"
   ]
  },
  {
   "cell_type": "markdown",
   "metadata": {},
   "source": [
    ">5. Crea la variable `arr` con 10 números aleatorios."
   ]
  },
  {
   "cell_type": "code",
   "execution_count": 13,
   "metadata": {},
   "outputs": [
    {
     "name": "stdout",
     "output_type": "stream",
     "text": [
      "[0.67583134 0.2143232  0.30945203 0.7994661  0.9958021  0.14223182\n",
      " 0.07872553 0.18082381 0.35964689 0.16961925]\n"
     ]
    }
   ],
   "source": [
    "rng = np.random.default_rng(seed=2024)\n",
    "arr = rng.random(10)\n",
    "print(arr)"
   ]
  },
  {
   "cell_type": "markdown",
   "metadata": {},
   "source": [
    ">6. Crea e imprime la variable `arr`, que será una matriz de 3x3 cuyos elementos son todos 1.\n"
   ]
  },
  {
   "cell_type": "code",
   "execution_count": 11,
   "metadata": {},
   "outputs": [
    {
     "name": "stdout",
     "output_type": "stream",
     "text": [
      "[[1. 1. 1.]\n",
      " [1. 1. 1.]\n",
      " [1. 1. 1.]]\n"
     ]
    }
   ],
   "source": [
    "arr = np.ones((3,3))\n",
    "print(arr)"
   ]
  },
  {
   "cell_type": "markdown",
   "metadata": {},
   "source": [
    ">7. Crea e imprime una variable `arr` que con la dimensión 3x5x4 que contenga números aleatorios."
   ]
  },
  {
   "cell_type": "code",
   "execution_count": 21,
   "metadata": {},
   "outputs": [
    {
     "name": "stdout",
     "output_type": "stream",
     "text": [
      "[[[0.45261099 0.74477338 0.34895141]\n",
      "  [0.62780661 0.34585771 0.07311693]\n",
      "  [0.12293647 0.01774725 0.03864987]\n",
      "  [0.68916698 0.19837232 0.86383024]\n",
      "  [0.7687165  0.73594069 0.66807598]]\n",
      "\n",
      " [[0.92725658 0.54566953 0.27308837]\n",
      "  [0.70281288 0.13180528 0.29975193]\n",
      "  [0.01560048 0.96061722 0.29334406]\n",
      "  [0.85706893 0.89476375 0.50428108]\n",
      "  [0.74964087 0.31133147 0.40892744]]\n",
      "\n",
      " [[0.90597347 0.95920545 0.08697646]\n",
      "  [0.81366327 0.796418   0.42604348]\n",
      "  [0.02556243 0.4582288  0.65186925]\n",
      "  [0.14557361 0.56573143 0.90727299]\n",
      "  [0.14600425 0.68338435 0.39047656]]\n",
      "\n",
      " [[0.76915327 0.61262005 0.40835005]\n",
      "  [0.49513094 0.06718195 0.74929088]\n",
      "  [0.32637492 0.96669323 0.88002796]\n",
      "  [0.12679135 0.96925614 0.36718528]\n",
      "  [0.70802111 0.91773567 0.20967025]]]\n"
     ]
    }
   ],
   "source": [
    "arr = rng.random((4,5,3)) #puedo poner todos los argumentos que quiera (2,1,2,4,5)\n",
    "print(arr)"
   ]
  },
  {
   "cell_type": "markdown",
   "metadata": {},
   "source": [
    ">8. Crea (automáticamente) e imprime una variable `arr` que contenga:"
   ]
  },
  {
   "cell_type": "code",
   "execution_count": 27,
   "metadata": {},
   "outputs": [
    {
     "ename": "SyntaxError",
     "evalue": "invalid syntax (1040110401.py, line 2)",
     "output_type": "error",
     "traceback": [
      "\u001b[1;36m  Cell \u001b[1;32mIn[27], line 2\u001b[1;36m\u001b[0m\n\u001b[1;33m    arr[, :1]\u001b[0m\n\u001b[1;37m        ^\u001b[0m\n\u001b[1;31mSyntaxError\u001b[0m\u001b[1;31m:\u001b[0m invalid syntax\n"
     ]
    }
   ],
   "source": [
    "arr = np.arange(0, 1000, 10).reshape(10,10)"
   ]
  },
  {
   "cell_type": "markdown",
   "metadata": {},
   "source": [
    ">9. Crea e imprime la variable `arr`, que contendrá una matriz de dimensión 10x10 donde todos sus elementos son 0 a excepción de los bordes, que contendrán un 1."
   ]
  },
  {
   "cell_type": "code",
   "execution_count": 47,
   "metadata": {},
   "outputs": [
    {
     "name": "stdout",
     "output_type": "stream",
     "text": [
      "[[1. 0. 0. 0. 0. 0. 0. 0. 0. 0. 0. 1.]\n",
      " [1. 0. 0. 0. 0. 0. 0. 0. 0. 0. 0. 1.]\n",
      " [1. 0. 0. 0. 0. 0. 0. 0. 0. 0. 0. 1.]\n",
      " [1. 0. 0. 0. 0. 0. 0. 0. 0. 0. 0. 1.]\n",
      " [1. 0. 0. 0. 0. 0. 0. 0. 0. 0. 0. 1.]\n",
      " [1. 0. 0. 0. 0. 0. 0. 0. 0. 0. 0. 1.]\n",
      " [1. 0. 0. 0. 0. 0. 0. 0. 0. 0. 0. 1.]\n",
      " [1. 0. 0. 0. 0. 0. 0. 0. 0. 0. 0. 1.]\n",
      " [1. 0. 0. 0. 0. 0. 0. 0. 0. 0. 0. 1.]\n",
      " [1. 0. 0. 0. 0. 0. 0. 0. 0. 0. 0. 1.]]\n"
     ]
    }
   ],
   "source": [
    "arr = np.zeros((10,10))\n",
    "values = np.ones((1,10,2)) #formato columnas\n",
    "new_arr = np.insert(arr,[0,10],values, axis=1)\n",
    "print(new_arr)"
   ]
  },
  {
   "cell_type": "markdown",
   "metadata": {},
   "source": [
    ">10. Crea e imprime la variable `arr`, que será una matriz de 5x5 cuyos elementos de la diagonal son los valores del 1 al 5 y el resto 0."
   ]
  },
  {
   "cell_type": "code",
   "execution_count": 82,
   "metadata": {},
   "outputs": [
    {
     "name": "stdout",
     "output_type": "stream",
     "text": [
      "[[1. 0. 0. 0. 0.]\n",
      " [0. 2. 0. 0. 0.]\n",
      " [0. 0. 3. 0. 0.]\n",
      " [0. 0. 0. 4. 0.]\n",
      " [0. 0. 0. 0. 5.]]\n",
      "[1. 0. 0. 0. 0.]\n",
      "[0. 2. 0. 0. 0.]\n",
      "[0. 0. 3. 0. 0.]\n",
      "[0. 0. 0. 4. 0.]\n",
      "[0. 0. 0. 0. 5.]\n"
     ]
    }
   ],
   "source": [
    "arr = np.eye(5,5)\n",
    "arr[:,1] = arr[1,:] *2\n",
    "arr[:,2] = arr[2,:] *3\n",
    "arr[:,3] = arr[3,:] *4\n",
    "arr[:,4] = arr[4,:] *5\n",
    "print(arr)\n",
    "\n",
    "#mas automatizado\n",
    "n = range(0,5)\n",
    "for i in n:\n",
    "    arr = np.eye(5,5)\n",
    "    resultado = arr[:,i] = arr[i,:] * (i+1)\n",
    "    print(resultado)\n"
   ]
  },
  {
   "cell_type": "code",
   "execution_count": 85,
   "metadata": {},
   "outputs": [
    {
     "data": {
      "text/plain": [
       "array([[1, 0, 0, 0, 0],\n",
       "       [0, 2, 0, 0, 0],\n",
       "       [0, 0, 3, 0, 0],\n",
       "       [0, 0, 0, 4, 0],\n",
       "       [0, 0, 0, 0, 5]])"
      ]
     },
     "execution_count": 85,
     "metadata": {},
     "output_type": "execute_result"
    }
   ],
   "source": [
    "#mas sencillo\n",
    "x = [1,2,3,4,5]\n",
    "arr = np.diag(x)\n",
    "arr"
   ]
  },
  {
   "cell_type": "markdown",
   "metadata": {},
   "source": [
    ">11. Crea e imprime la variable `arr`, que será inicalmente una matriz de 3x1 de todo unos y añádele luego una columna adicional de ceros."
   ]
  },
  {
   "cell_type": "code",
   "execution_count": 91,
   "metadata": {},
   "outputs": [
    {
     "data": {
      "text/plain": [
       "array([[1., 0.],\n",
       "       [1., 0.],\n",
       "       [1., 0.]])"
      ]
     },
     "execution_count": 91,
     "metadata": {},
     "output_type": "execute_result"
    }
   ],
   "source": [
    "arr = np.ones((3,1))\n",
    "values = np.zeros((1,3)) #formato columnas\n",
    "new_arr = np.insert(arr,1,values, axis=1)\n",
    "new_arr"
   ]
  },
  {
   "cell_type": "markdown",
   "metadata": {},
   "source": [
    ">12. Crea e imprime una variable `arr` que contenga:\n",
    "```\n",
    "array([[  0,  10,  20,  30,  40,  50,  60,  70,  80,  90],\n",
    "       [101, 111, 121, 131, 141, 151, 161, 171, 181, 191],\n",
    "       [200, 210, 220, 230, 240, 250, 260, 270, 280, 290],\n",
    "       [301, 311, 321, 331, 341, 351, 361, 371, 381, 391],\n",
    "       [400, 410, 420, 430, 440, 450, 460, 470, 480, 490],\n",
    "       [501, 511, 521, 531, 541, 551, 561, 571, 581, 591],\n",
    "       [600, 610, 620, 630, 640, 650, 660, 670, 680, 690],\n",
    "       [701, 711, 721, 731, 741, 751, 761, 771, 781, 791],\n",
    "       [800, 810, 820, 830, 840, 850, 860, 870, 880, 890],\n",
    "       [901, 911, 921, 931, 941, 951, 961, 971, 981, 991]])\n",
    "```"
   ]
  },
  {
   "cell_type": "code",
   "execution_count": 124,
   "metadata": {},
   "outputs": [
    {
     "data": {
      "text/plain": [
       "array([  0, 101, 200, 301, 400, 501, 600, 701, 800, 901])"
      ]
     },
     "execution_count": 124,
     "metadata": {},
     "output_type": "execute_result"
    }
   ],
   "source": [
    "arr = np.arange(0,1000, 10).reshape((10,10))\n",
    "arr[1,:] = arr[1,:] + 1\n",
    "arr[3,:] = arr[3,:] + 1\n",
    "arr[5,:] = arr[5,:] + 1\n",
    "arr[7,:] = arr[7,:] + 1\n",
    "arr[9,:] = arr[9,:] + 1\n",
    "arr[:,0]"
   ]
  },
  {
   "cell_type": "markdown",
   "metadata": {},
   "source": [
    ">13. Crea el array:\n",
    "```\n",
    "[[10 11 12 13]\n",
    " [14 15 16 17]\n",
    " [18 19 20 21]]\n",
    " ```\n",
    " y muedsta para cada elemento el mensaje `El elemento en la fila .. y columna .. es ..`"
   ]
  },
  {
   "cell_type": "code",
   "execution_count": 171,
   "metadata": {},
   "outputs": [
    {
     "name": "stdout",
     "output_type": "stream",
     "text": [
      "El valor 10 está en la fila 0 y en la columna 0\n",
      "El valor 11 está en la fila 0 y en la columna 1\n",
      "El valor 12 está en la fila 0 y en la columna 2\n",
      "El valor 13 está en la fila 1 y en la columna 0\n",
      "El valor 14 está en la fila 1 y en la columna 1\n",
      "El valor 15 está en la fila 1 y en la columna 2\n",
      "El valor 16 está en la fila 2 y en la columna 0\n",
      "El valor 17 está en la fila 2 y en la columna 1\n",
      "El valor 18 está en la fila 2 y en la columna 2\n",
      "El valor 19 está en la fila 3 y en la columna 0\n",
      "El valor 20 está en la fila 3 y en la columna 1\n",
      "El valor 21 está en la fila 3 y en la columna 2\n"
     ]
    }
   ],
   "source": [
    "#no me convence este metodo...\n",
    "arr = np.arange(10,22, 1).reshape(4,3)\n",
    "it =  np.nditer(arr, flags=['multi_index'])\n",
    "while not it.finished:\n",
    "    fila = it.multi_index[0]      \n",
    "    columna = it.multi_index[1]   \n",
    "    print(\"El valor %d está en la fila %d y en la columna %d\" % (it[0], fila, columna), end='\\n')\n",
    "    is_not_finished = it.iternext()\n",
    "\n"
   ]
  },
  {
   "cell_type": "markdown",
   "metadata": {},
   "source": [
    "14. Crea un array con los valores del 0 al 20, ambos incluídos, y cambia el signo de los números del 7 al 12 (ambos incluídos).\n",
    "15. Escribe un trozo de código que termine imprimiendo uno de los posibles mensajes _No hay ceros/Hay ceros_ en función del valor de la variable `no_hay_ceros`, que será `True` en caso de que en el array almacenado en `arr` no hay ningún cero.\n",
    "16. Asuminedo que todos los valores del array almacenado en `arr` son numéricos, escribe un trozo de código que imprima _Todos positivos_ en caso de que todos sean mayor que cero y _No todos positivos_ en caso contrario.\n",
    "17. Escribe un trozo de código que imprima _Aceptado_ si la diferencia entre cada par de elementos de los arrays `x` e `y` es siempre menor o igual que 5 y _Rechazado_ en caso contrario.\n",
    "18. Escribe un trozo de código que imprima `Falta información` si alguno de los elementos del array `arr` tiene un valor NaN y `Todo correcto` en caso contrario.\n",
    "19. Imprime el mensaje _El resultado es: ..._ tras multiplicar elemento a elemento los vectores `x` e `y` y hacer la suma de los resultados.\n",
    "20. Comprueba si los arrays `x` e `y` son iguales elemento a elemento"
   ]
  }
 ],
 "metadata": {
  "kernelspec": {
   "display_name": ".venv",
   "language": "python",
   "name": "python3"
  },
  "language_info": {
   "codemirror_mode": {
    "name": "ipython",
    "version": 3
   },
   "file_extension": ".py",
   "mimetype": "text/x-python",
   "name": "python",
   "nbconvert_exporter": "python",
   "pygments_lexer": "ipython3",
   "version": "3.11.9"
  }
 },
 "nbformat": 4,
 "nbformat_minor": 2
}
