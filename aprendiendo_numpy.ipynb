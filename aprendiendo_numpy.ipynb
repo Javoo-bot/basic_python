{
 "cells": [
  {
   "cell_type": "code",
   "execution_count": 2,
   "metadata": {},
   "outputs": [],
   "source": [
    "import numpy as np"
   ]
  },
  {
   "cell_type": "code",
   "execution_count": 3,
   "metadata": {},
   "outputs": [
    {
     "data": {
      "text/plain": [
       "numpy.ndarray"
      ]
     },
     "execution_count": 3,
     "metadata": {},
     "output_type": "execute_result"
    }
   ],
   "source": [
    "type(np.ones(5))"
   ]
  },
  {
   "cell_type": "code",
   "execution_count": 6,
   "metadata": {},
   "outputs": [
    {
     "name": "stdout",
     "output_type": "stream",
     "text": [
      "<class 'list'>\n",
      "[10 20 30 20 50]\n",
      "<class 'numpy.ndarray'>\n"
     ]
    }
   ],
   "source": [
    "lista = [10,20,30,20,50]\n",
    "print(type(lista))\n",
    "arr = np.array([10,20,30,20,50])\n",
    "print(arr)\n",
    "print(type(arr))"
   ]
  },
  {
   "cell_type": "code",
   "execution_count": 16,
   "metadata": {},
   "outputs": [
    {
     "name": "stdout",
     "output_type": "stream",
     "text": [
      "[[1 2 3]\n",
      " [4 5 6]]\n",
      "[[[ 1  2  3]\n",
      "  [ 4  5  6]]\n",
      "\n",
      " [[10 20 30]\n",
      "  [40 50 60]]]\n"
     ]
    }
   ],
   "source": [
    "#1D\n",
    "arro0D = np.array([1,2,3,4])\n",
    "\n",
    "#2D\n",
    "arr2d = np.array([[1,2,3], [4,5,6]])\n",
    "print(arr2d)\n",
    "\n",
    "#3D\n",
    "arr3d = np.array ([\n",
    "                  [[1,2,3], [4,5,6]], \n",
    "                  [[10,20,30], [40,50,60]]\n",
    "                  ])\n",
    "print(Arr3d)"
   ]
  },
  {
   "cell_type": "code",
   "execution_count": 17,
   "metadata": {},
   "outputs": [
    {
     "data": {
      "text/plain": [
       "3"
      ]
     },
     "execution_count": 17,
     "metadata": {},
     "output_type": "execute_result"
    }
   ],
   "source": [
    "arr3d.ndim"
   ]
  },
  {
   "cell_type": "code",
   "execution_count": 48,
   "metadata": {},
   "outputs": [
    {
     "name": "stdout",
     "output_type": "stream",
     "text": [
      "[10 20 30 40 50 60 70]\n",
      "70\n",
      "[30 40]\n"
     ]
    }
   ],
   "source": [
    "arr = np.array([10, 20, 30, 40, 50, 60, 70], ndmin=2)\n",
    "print(arr[0])\n",
    "print(arr[0,-1])\n",
    "print(arr[0,2:4])"
   ]
  },
  {
   "cell_type": "code",
   "execution_count": 50,
   "metadata": {},
   "outputs": [
    {
     "data": {
      "text/plain": [
       "array([2, 3, 4])"
      ]
     },
     "execution_count": 50,
     "metadata": {},
     "output_type": "execute_result"
    }
   ],
   "source": [
    "arr = np.array([1,2,3])\n",
    "arr + 1 #esta operacion esta vectorizada\n"
   ]
  },
  {
   "cell_type": "code",
   "execution_count": 26,
   "metadata": {},
   "outputs": [
    {
     "data": {
      "text/plain": [
       "np.int64(100)"
      ]
     },
     "execution_count": 26,
     "metadata": {},
     "output_type": "execute_result"
    }
   ],
   "source": [
    "arr = np.array([\n",
    "                [10,20,30,40,50],\n",
    "                [60,70,80,90,100]\n",
    "                ])\n",
    "\n",
    "#si solo le paso un num como indice a la matriz\n",
    "#me quedo con la fila entera de esa serie\n",
    "arr[0,1]\n",
    "\n",
    "arr[1, :]\n",
    "#para sacar las columnas\n",
    "arr[: , 3]\n",
    "#se pueden usar indices negativos\n",
    "arr[1 , -1]"
   ]
  },
  {
   "cell_type": "code",
   "execution_count": 17,
   "metadata": {},
   "outputs": [
    {
     "name": "stdout",
     "output_type": "stream",
     "text": [
      "[20 30 40 50]\n",
      "[20 40 60]\n",
      "[10 30]\n",
      "[10 30]\n"
     ]
    }
   ],
   "source": [
    "arr = np.array([10,20,30,40,50,60,70,80])\n",
    "\n",
    "print(arr[1:5])\n",
    "print(arr[1:6:2])\n",
    "print(arr[:4:2]) #empiexa en el cero y salta de dos en dos \n",
    "print(arr[0:3:2]) #desde la 0 a la 3 y se salta 2"
   ]
  },
  {
   "cell_type": "code",
   "execution_count": 21,
   "metadata": {},
   "outputs": [
    {
     "data": {
      "text/plain": [
       "array([0, 1, 2, 3, 4, 5])"
      ]
     },
     "execution_count": 21,
     "metadata": {},
     "output_type": "execute_result"
    }
   ],
   "source": [
    "np.zeros(10) #inicio decimales y por defecto es un float \n",
    "np.empty(5) #nos da numeros aleatorios \n",
    "np.arange(6) #igual que el range "
   ]
  },
  {
   "cell_type": "code",
   "execution_count": 27,
   "metadata": {},
   "outputs": [
    {
     "data": {
      "text/plain": [
       "array([1., 1., 1., 0., 0., 0.])"
      ]
     },
     "execution_count": 27,
     "metadata": {},
     "output_type": "execute_result"
    }
   ],
   "source": [
    "a1 = np.ones(3)\n",
    "a2 = np.zeros(3)\n",
    "np.array(list(a1) + list(a2))\n"
   ]
  },
  {
   "cell_type": "code",
   "execution_count": 29,
   "metadata": {},
   "outputs": [
    {
     "name": "stdout",
     "output_type": "stream",
     "text": [
      "[1, 2, 3, 4, 5, 6]\n",
      "[1. 1. 1.]\n"
     ]
    }
   ],
   "source": [
    "l1 = [1,2,3]\n",
    "l2 = [4,5,6]\n",
    "print(l1 +l2)\n",
    "print(a1 + a2)"
   ]
  },
  {
   "cell_type": "code",
   "execution_count": 5,
   "metadata": {},
   "outputs": [
    {
     "data": {
      "text/plain": [
       "(6,)"
      ]
     },
     "execution_count": 5,
     "metadata": {},
     "output_type": "execute_result"
    }
   ],
   "source": [
    "arr1 = np.array([1,2,3])\n",
    "arr2 = np.array([4,5,6])\n",
    "x =np.hstack((arr1,arr2))\n",
    "x.shape"
   ]
  },
  {
   "cell_type": "code",
   "execution_count": 6,
   "metadata": {},
   "outputs": [
    {
     "data": {
      "text/plain": [
       "(5,)"
      ]
     },
     "execution_count": 6,
     "metadata": {},
     "output_type": "execute_result"
    }
   ],
   "source": [
    "arr1 = np.array([1,2,3])\n",
    "arr2 = np.array([4,5])\n",
    "x =np.hstack((arr1,arr2))\n",
    "x.shape"
   ]
  },
  {
   "cell_type": "code",
   "execution_count": 10,
   "metadata": {},
   "outputs": [
    {
     "data": {
      "text/plain": [
       "(2, 3)"
      ]
     },
     "execution_count": 10,
     "metadata": {},
     "output_type": "execute_result"
    }
   ],
   "source": [
    "arr1 = np.array([1,2,3])\n",
    "arr2 = np.array([4,5,6]) #tiene que tener la misma dimension\n",
    "x =np.vstack((arr1,arr2)) \n",
    "x.shape"
   ]
  },
  {
   "cell_type": "code",
   "execution_count": 11,
   "metadata": {},
   "outputs": [
    {
     "ename": "TypeError",
     "evalue": "Field elements must be 2- or 3-tuples, got '4'",
     "output_type": "error",
     "traceback": [
      "\u001b[1;31m---------------------------------------------------------------------------\u001b[0m",
      "\u001b[1;31mTypeError\u001b[0m                                 Traceback (most recent call last)",
      "Cell \u001b[1;32mIn[11], line 1\u001b[0m\n\u001b[1;32m----> 1\u001b[0m arr1 \u001b[38;5;241m=\u001b[39m \u001b[43mnp\u001b[49m\u001b[38;5;241;43m.\u001b[39;49m\u001b[43marray\u001b[49m\u001b[43m(\u001b[49m\u001b[43m[\u001b[49m\u001b[38;5;241;43m1\u001b[39;49m\u001b[43m,\u001b[49m\u001b[38;5;241;43m2\u001b[39;49m\u001b[43m,\u001b[49m\u001b[38;5;241;43m3\u001b[39;49m\u001b[43m]\u001b[49m\u001b[43m,\u001b[49m\u001b[43m \u001b[49m\u001b[43m[\u001b[49m\u001b[38;5;241;43m4\u001b[39;49m\u001b[43m,\u001b[49m\u001b[38;5;241;43m5\u001b[39;49m\u001b[43m,\u001b[49m\u001b[38;5;241;43m6\u001b[39;49m\u001b[43m]\u001b[49m\u001b[43m)\u001b[49m\n\u001b[0;32m      2\u001b[0m arr2 \u001b[38;5;241m=\u001b[39m np\u001b[38;5;241m.\u001b[39marray([\u001b[38;5;241m7\u001b[39m,\u001b[38;5;241m8\u001b[39m,\u001b[38;5;241m9\u001b[39m]) \u001b[38;5;66;03m#tiene que tener la misma dimension\u001b[39;00m\n\u001b[0;32m      3\u001b[0m x \u001b[38;5;241m=\u001b[39mnp\u001b[38;5;241m.\u001b[39mhstack((arr1,arr2)) \n",
      "\u001b[1;31mTypeError\u001b[0m: Field elements must be 2- or 3-tuples, got '4'"
     ]
    }
   ],
   "source": [
    "arr1 = np.array([1,2,3], [4,5,6])\n",
    "arr2 = np.array([7,8,9]) #tiene que tener la misma dimension\n",
    "x =np.hstack((arr1,arr2)) \n",
    "x"
   ]
  },
  {
   "cell_type": "markdown",
   "metadata": {},
   "source": [
    "## Ejercicios (1)"
   ]
  },
  {
   "cell_type": "markdown",
   "metadata": {},
   "source": [
    ">1. Almacena en la variable `arr` un array con 10 ceros, 10 unos y 10 cuatros. Luego imprime el array y su número de elementos por pantalla."
   ]
  },
  {
   "cell_type": "code",
   "execution_count": 40,
   "metadata": {},
   "outputs": [
    {
     "name": "stdout",
     "output_type": "stream",
     "text": [
      "[4 4 4 4 4 4 4 4 4 4]\n",
      "[[1. 1. 1. 1. 1. 1. 1. 1. 1. 1.]\n",
      " [0. 0. 0. 0. 0. 0. 0. 0. 0. 0.]\n",
      " [4. 4. 4. 4. 4. 4. 4. 4. 4. 4.]]\n"
     ]
    }
   ],
   "source": [
    "a1 = np.ones(10)\n",
    "a2 = np.zeros(10)\n",
    "a3 = np.full(10,4)\n",
    "print(a3)\n",
    "\n",
    "arr3d = np.array ([\n",
    "                  a1, a2,a3\n",
    "                  ])\n",
    "print(arr3d)"
   ]
  },
  {
   "cell_type": "markdown",
   "metadata": {},
   "source": [
    ">2. Crea variable numeros enteros del 20 al 50."
   ]
  },
  {
   "cell_type": "code",
   "execution_count": 44,
   "metadata": {},
   "outputs": [
    {
     "name": "stdout",
     "output_type": "stream",
     "text": [
      "[20 21 22 23 24 25 26 27 28 29 30 31 32 33 34 35 36 37 38 39 40 41 42 43\n",
      " 44 45 46 47 48 49 50]\n"
     ]
    }
   ],
   "source": [
    "arr = np.arange(20,51)\n",
    "print(arr)"
   ]
  },
  {
   "cell_type": "markdown",
   "metadata": {},
   "source": [
    ">3. Crea la variable `arr` con los números pares del 20 al 50 e imprímela por pantalla."
   ]
  },
  {
   "cell_type": "code",
   "execution_count": 51,
   "metadata": {},
   "outputs": [
    {
     "name": "stdout",
     "output_type": "stream",
     "text": [
      "[20 22 24 26 28 30 32 34 36 38 40 42 44 46 48 50]\n"
     ]
    }
   ],
   "source": [
    "n = 2\n",
    "arr = np.arange(20, 50 + n, n, dtype=int)\n",
    "print(arr)"
   ]
  },
  {
   "cell_type": "markdown",
   "metadata": {},
   "source": [
    ">4. Crea la variable `arr` con los números enteros del 20 al 50 que sean múltiplo de 5 e imprímela por pantalla."
   ]
  },
  {
   "cell_type": "code",
   "execution_count": 4,
   "metadata": {},
   "outputs": [
    {
     "name": "stdout",
     "output_type": "stream",
     "text": [
      "[20 25 30 35 40 45 50]\n"
     ]
    }
   ],
   "source": [
    "arr = np.arange(20, 50+2, 5, dtype=int)\n",
    "print(arr)"
   ]
  },
  {
   "cell_type": "markdown",
   "metadata": {},
   "source": [
    ">5. Crea la variable `arr` con 10 números aleatorios."
   ]
  },
  {
   "cell_type": "code",
   "execution_count": 13,
   "metadata": {},
   "outputs": [
    {
     "name": "stdout",
     "output_type": "stream",
     "text": [
      "[0.67583134 0.2143232  0.30945203 0.7994661  0.9958021  0.14223182\n",
      " 0.07872553 0.18082381 0.35964689 0.16961925]\n"
     ]
    }
   ],
   "source": [
    "rng = np.random.default_rng(seed=2024)\n",
    "arr = rng.random(10)\n",
    "print(arr)"
   ]
  },
  {
   "cell_type": "markdown",
   "metadata": {},
   "source": [
    ">6. Crea e imprime la variable `arr`, que será una matriz de 3x3 cuyos elementos son todos 1.\n"
   ]
  },
  {
   "cell_type": "code",
   "execution_count": 11,
   "metadata": {},
   "outputs": [
    {
     "name": "stdout",
     "output_type": "stream",
     "text": [
      "[[1. 1. 1.]\n",
      " [1. 1. 1.]\n",
      " [1. 1. 1.]]\n"
     ]
    }
   ],
   "source": [
    "arr = np.ones((3,3))\n",
    "print(arr)"
   ]
  },
  {
   "cell_type": "markdown",
   "metadata": {},
   "source": [
    ">7. Crea e imprime una variable `arr` que con la dimensión 3x5x4 que contenga números aleatorios."
   ]
  },
  {
   "cell_type": "code",
   "execution_count": 12,
   "metadata": {},
   "outputs": [
    {
     "data": {
      "text/plain": [
       "array([[[0.23331339, 0.11290162, 0.04139873, 0.3665868 , 0.48340404],\n",
       "        [0.70812826, 0.24534534, 0.85279916, 0.92788402, 0.04430483],\n",
       "        [0.69091091, 0.51097931, 0.15333741, 0.23183212, 0.83238511],\n",
       "        [0.19448769, 0.57355024, 0.03411105, 0.96393996, 0.84333418]],\n",
       "\n",
       "       [[0.41414072, 0.17787092, 0.56025422, 0.47179161, 0.0525395 ],\n",
       "        [0.90067344, 0.58577287, 0.4881865 , 0.06279265, 0.64778913],\n",
       "        [0.54586767, 0.02969225, 0.30882527, 0.16041681, 0.56720833],\n",
       "        [0.16077505, 0.56768572, 0.89641437, 0.38070131, 0.85269338]],\n",
       "\n",
       "       [[0.65925844, 0.16613737, 0.22053969, 0.8781794 , 0.06390329],\n",
       "        [0.46487807, 0.99048859, 0.85180543, 0.31986811, 0.75406848],\n",
       "        [0.627584  , 0.15426867, 0.80876959, 0.54964344, 0.73688917],\n",
       "        [0.82154522, 0.09700771, 0.71424164, 0.50520961, 0.88481385]]])"
      ]
     },
     "execution_count": 12,
     "metadata": {},
     "output_type": "execute_result"
    }
   ],
   "source": [
    "#arr = rng.random((4,5,3)) #puedo poner todos los argumentos que quiera (2,1,2,4,5)\n",
    "#print(arr)\n",
    "\n",
    "arr = np.random.rand(3,4,5)\n",
    "arr"
   ]
  },
  {
   "cell_type": "markdown",
   "metadata": {},
   "source": [
    ">8. Crea (automáticamente) e imprime una variable `arr` que contenga:"
   ]
  },
  {
   "cell_type": "code",
   "execution_count": 14,
   "metadata": {},
   "outputs": [
    {
     "data": {
      "text/plain": [
       "array([[  0,  10,  20,  30,  40,  50,  60,  70,  80,  90],\n",
       "       [100, 110, 120, 130, 140, 150, 160, 170, 180, 190],\n",
       "       [200, 210, 220, 230, 240, 250, 260, 270, 280, 290],\n",
       "       [300, 310, 320, 330, 340, 350, 360, 370, 380, 390],\n",
       "       [400, 410, 420, 430, 440, 450, 460, 470, 480, 490],\n",
       "       [500, 510, 520, 530, 540, 550, 560, 570, 580, 590],\n",
       "       [600, 610, 620, 630, 640, 650, 660, 670, 680, 690],\n",
       "       [700, 710, 720, 730, 740, 750, 760, 770, 780, 790],\n",
       "       [800, 810, 820, 830, 840, 850, 860, 870, 880, 890],\n",
       "       [900, 910, 920, 930, 940, 950, 960, 970, 980, 990]])"
      ]
     },
     "execution_count": 14,
     "metadata": {},
     "output_type": "execute_result"
    }
   ],
   "source": [
    "arr = np.arange(0, 1000, 10).reshape(10,10)\n",
    "arr "
   ]
  },
  {
   "cell_type": "markdown",
   "metadata": {},
   "source": [
    ">9. Crea e imprime la variable `arr`, que contendrá una matriz de dimensión 10x10 donde todos sus elementos son 0 a excepción de los bordes, que contendrán un 1."
   ]
  },
  {
   "cell_type": "code",
   "execution_count": 47,
   "metadata": {},
   "outputs": [
    {
     "name": "stdout",
     "output_type": "stream",
     "text": [
      "[[1. 0. 0. 0. 0. 0. 0. 0. 0. 0. 0. 1.]\n",
      " [1. 0. 0. 0. 0. 0. 0. 0. 0. 0. 0. 1.]\n",
      " [1. 0. 0. 0. 0. 0. 0. 0. 0. 0. 0. 1.]\n",
      " [1. 0. 0. 0. 0. 0. 0. 0. 0. 0. 0. 1.]\n",
      " [1. 0. 0. 0. 0. 0. 0. 0. 0. 0. 0. 1.]\n",
      " [1. 0. 0. 0. 0. 0. 0. 0. 0. 0. 0. 1.]\n",
      " [1. 0. 0. 0. 0. 0. 0. 0. 0. 0. 0. 1.]\n",
      " [1. 0. 0. 0. 0. 0. 0. 0. 0. 0. 0. 1.]\n",
      " [1. 0. 0. 0. 0. 0. 0. 0. 0. 0. 0. 1.]\n",
      " [1. 0. 0. 0. 0. 0. 0. 0. 0. 0. 0. 1.]]\n"
     ]
    }
   ],
   "source": [
    "arr = np.zeros((10,10))\n",
    "values = np.ones((1,10,2)) #formato columnas\n",
    "new_arr = np.insert(arr,[0,10],values, axis=1)\n",
    "print(new_arr)"
   ]
  },
  {
   "cell_type": "markdown",
   "metadata": {},
   "source": [
    ">10. Crea e imprime la variable `arr`, que será una matriz de 5x5 cuyos elementos de la diagonal son los valores del 1 al 5 y el resto 0."
   ]
  },
  {
   "cell_type": "code",
   "execution_count": 82,
   "metadata": {},
   "outputs": [
    {
     "name": "stdout",
     "output_type": "stream",
     "text": [
      "[[1. 0. 0. 0. 0.]\n",
      " [0. 2. 0. 0. 0.]\n",
      " [0. 0. 3. 0. 0.]\n",
      " [0. 0. 0. 4. 0.]\n",
      " [0. 0. 0. 0. 5.]]\n",
      "[1. 0. 0. 0. 0.]\n",
      "[0. 2. 0. 0. 0.]\n",
      "[0. 0. 3. 0. 0.]\n",
      "[0. 0. 0. 4. 0.]\n",
      "[0. 0. 0. 0. 5.]\n"
     ]
    }
   ],
   "source": [
    "arr = np.eye(5,5)\n",
    "arr[:,1] = arr[1,:] *2\n",
    "arr[:,2] = arr[2,:] *3\n",
    "arr[:,3] = arr[3,:] *4\n",
    "arr[:,4] = arr[4,:] *5\n",
    "print(arr)\n",
    "\n",
    "#mas automatizado\n",
    "n = range(0,5)\n",
    "for i in n:\n",
    "    arr = np.eye(5,5)\n",
    "    resultado = arr[:,i] = arr[i,:] * (i+1)\n",
    "    print(resultado)\n"
   ]
  },
  {
   "cell_type": "code",
   "execution_count": 85,
   "metadata": {},
   "outputs": [
    {
     "data": {
      "text/plain": [
       "array([[1, 0, 0, 0, 0],\n",
       "       [0, 2, 0, 0, 0],\n",
       "       [0, 0, 3, 0, 0],\n",
       "       [0, 0, 0, 4, 0],\n",
       "       [0, 0, 0, 0, 5]])"
      ]
     },
     "execution_count": 85,
     "metadata": {},
     "output_type": "execute_result"
    }
   ],
   "source": [
    "#mas sencillo\n",
    "x = [1,2,3,4,5]\n",
    "arr = np.diag(x)\n",
    "arr"
   ]
  },
  {
   "cell_type": "markdown",
   "metadata": {},
   "source": [
    ">11. Crea e imprime la variable `arr`, que será inicalmente una matriz de 3x1 de todo unos y añádele luego una columna adicional de ceros."
   ]
  },
  {
   "cell_type": "code",
   "execution_count": 91,
   "metadata": {},
   "outputs": [
    {
     "data": {
      "text/plain": [
       "array([[1., 0.],\n",
       "       [1., 0.],\n",
       "       [1., 0.]])"
      ]
     },
     "execution_count": 91,
     "metadata": {},
     "output_type": "execute_result"
    }
   ],
   "source": [
    "arr = np.ones((3,1))\n",
    "values = np.zeros((1,3)) #formato columnas\n",
    "new_arr = np.insert(arr,1,values, axis=1)\n",
    "new_arr"
   ]
  },
  {
   "cell_type": "markdown",
   "metadata": {},
   "source": [
    ">12. Crea e imprime una variable `arr` que contenga:\n",
    "```\n",
    "array([[  0,  10,  20,  30,  40,  50,  60,  70,  80,  90],\n",
    "       [101, 111, 121, 131, 141, 151, 161, 171, 181, 191],\n",
    "       [200, 210, 220, 230, 240, 250, 260, 270, 280, 290],\n",
    "       [301, 311, 321, 331, 341, 351, 361, 371, 381, 391],\n",
    "       [400, 410, 420, 430, 440, 450, 460, 470, 480, 490],\n",
    "       [501, 511, 521, 531, 541, 551, 561, 571, 581, 591],\n",
    "       [600, 610, 620, 630, 640, 650, 660, 670, 680, 690],\n",
    "       [701, 711, 721, 731, 741, 751, 761, 771, 781, 791],\n",
    "       [800, 810, 820, 830, 840, 850, 860, 870, 880, 890],\n",
    "       [901, 911, 921, 931, 941, 951, 961, 971, 981, 991]])\n",
    "```"
   ]
  },
  {
   "cell_type": "code",
   "execution_count": 124,
   "metadata": {},
   "outputs": [
    {
     "data": {
      "text/plain": [
       "array([  0, 101, 200, 301, 400, 501, 600, 701, 800, 901])"
      ]
     },
     "execution_count": 124,
     "metadata": {},
     "output_type": "execute_result"
    }
   ],
   "source": [
    "arr = np.arange(0,1000, 10).reshape((10,10))\n",
    "arr[1,:] = arr[1,:] + 1\n",
    "arr[3,:] = arr[3,:] + 1\n",
    "arr[5,:] = arr[5,:] + 1\n",
    "arr[7,:] = arr[7,:] + 1\n",
    "arr[9,:] = arr[9,:] + 1\n",
    "arr[:,0]"
   ]
  },
  {
   "cell_type": "markdown",
   "metadata": {},
   "source": [
    ">13. Crea el array:\n",
    "```\n",
    "[[10 11 12 13]\n",
    " [14 15 16 17]\n",
    " [18 19 20 21]]\n",
    " ```\n",
    " y muestra para cada elemento el mensaje `El elemento en la fila .. y columna .. es ..`"
   ]
  },
  {
   "cell_type": "code",
   "execution_count": 171,
   "metadata": {},
   "outputs": [
    {
     "name": "stdout",
     "output_type": "stream",
     "text": [
      "El valor 10 está en la fila 0 y en la columna 0\n",
      "El valor 11 está en la fila 0 y en la columna 1\n",
      "El valor 12 está en la fila 0 y en la columna 2\n",
      "El valor 13 está en la fila 1 y en la columna 0\n",
      "El valor 14 está en la fila 1 y en la columna 1\n",
      "El valor 15 está en la fila 1 y en la columna 2\n",
      "El valor 16 está en la fila 2 y en la columna 0\n",
      "El valor 17 está en la fila 2 y en la columna 1\n",
      "El valor 18 está en la fila 2 y en la columna 2\n",
      "El valor 19 está en la fila 3 y en la columna 0\n",
      "El valor 20 está en la fila 3 y en la columna 1\n",
      "El valor 21 está en la fila 3 y en la columna 2\n"
     ]
    }
   ],
   "source": [
    "#no me convence este metodo...\n",
    "arr = np.arange(10,22, 1).reshape(4,3)\n",
    "it =  np.nditer(arr, flags=['multi_index'])\n",
    "while not it.finished:\n",
    "    fila = it.multi_index[0]      \n",
    "    columna = it.multi_index[1]   \n",
    "    print(\"El valor %d está en la fila %d y en la columna %d\" % (it[0], fila, columna), end='\\n')\n",
    "    is_not_finished = it.iternext()"
   ]
  },
  {
   "cell_type": "markdown",
   "metadata": {},
   "source": [
    ">14. Crea un array con los valores del 0 al 20, ambos incluídos, y cambia el signo de los números del 7 al 12 (ambos incluídos)."
   ]
  },
  {
   "cell_type": "code",
   "execution_count": 8,
   "metadata": {},
   "outputs": [
    {
     "data": {
      "text/plain": [
       "array([  0,   1,   2,   3,   4,   5,   6,  -7,  -8,  -9, -10, -11, -12,\n",
       "        13,  14,  15,  16,  17,  18,  19,  20])"
      ]
     },
     "execution_count": 8,
     "metadata": {},
     "output_type": "execute_result"
    }
   ],
   "source": [
    "arr = np.arange(0,21)\n",
    "arr[7:13:1] = arr[7:13:1] *-1 #tengo que ponerlo a la izquierda y derecha para que no lo sobre-escriba\n",
    "arr"
   ]
  },
  {
   "cell_type": "markdown",
   "metadata": {},
   "source": [
    ">15. Escribe un trozo de código que termine imprimiendo uno de los posibles mensajes _No hay ceros/Hay ceros_ en función del valor de la variable `no_hay_ceros`, que será `True` en caso de que en el array almacenado en `arr` no hay ningún cero."
   ]
  },
  {
   "cell_type": "code",
   "execution_count": 26,
   "metadata": {},
   "outputs": [
    {
     "name": "stdout",
     "output_type": "stream",
     "text": [
      "Hay ceros\n"
     ]
    }
   ],
   "source": [
    "a = np.array([0, 2, 3, 4, 5, 6, 7])\n",
    "arr = np.any(a = 0)\n",
    "if arr == True:\n",
    "    print('No hay ceros')\n",
    "else:\n",
    "    print('Hay ceros')"
   ]
  },
  {
   "cell_type": "markdown",
   "metadata": {},
   "source": [
    ">16. Asumiendo que todos los valores del array almacenado en `arr` son numéricos, escribe un trozo de código que imprima _Todos positivos_ en caso de que todos sean mayor que cero y _No todos positivos_ en caso contrario."
   ]
  },
  {
   "cell_type": "code",
   "execution_count": 35,
   "metadata": {},
   "outputs": [
    {
     "name": "stdout",
     "output_type": "stream",
     "text": [
      "No todos positivos\n"
     ]
    }
   ],
   "source": [
    "a = np.array([0, 2, -3, 4, 5, 6, 7])\n",
    "arr = np.all(a > 0)\n",
    "if arr == True:\n",
    "  print(\"Todos positivos\")\n",
    "else:\n",
    "    print(\"No todos son positivos\")"
   ]
  },
  {
   "cell_type": "markdown",
   "metadata": {},
   "source": [
    ">17. Escribe un trozo de código que imprima _Aceptado_ si la diferencia entre cada par de elementos de los arrays `x` e `y` es siempre menor o igual que 5 y _Rechazado_ en caso contrario."
   ]
  },
  {
   "cell_type": "code",
   "execution_count": 42,
   "metadata": {},
   "outputs": [
    {
     "name": "stdout",
     "output_type": "stream",
     "text": [
      "Rechazado\n"
     ]
    }
   ],
   "source": [
    "a= np.arange(0,50,4)\n",
    "arr = np.diff(a) \n",
    "if np.any(arr > 5):\n",
    "    print(\"Aceptado\")\n",
    "else:\n",
    "    print('Rechazado')"
   ]
  },
  {
   "cell_type": "markdown",
   "metadata": {},
   "source": [
    ">18. Escribe un trozo de código que imprima `Falta información` si alguno de los elementos del array `arr` tiene un valor NaN y `Todo correcto` en caso contrario."
   ]
  },
  {
   "cell_type": "code",
   "execution_count": 45,
   "metadata": {},
   "outputs": [
    {
     "name": "stdout",
     "output_type": "stream",
     "text": [
      "Falta informacion\n"
     ]
    }
   ],
   "source": [
    "a = np.array([0, 2, np.nan, 4, 5, 6, 7])\n",
    "arr = np.isnan(a)\n",
    "if np.any(arr) == True:\n",
    "    print('Falta informacion')\n",
    "else:\n",
    "    print('Todo correcto')"
   ]
  },
  {
   "cell_type": "markdown",
   "metadata": {},
   "source": [
    ">19. Imprime el mensaje _El resultado es: ..._ tras multiplicar elemento a elemento los vectores `x` e `y` y hacer la suma de los resultados."
   ]
  },
  {
   "cell_type": "code",
   "execution_count": 54,
   "metadata": {},
   "outputs": [
    {
     "name": "stdout",
     "output_type": "stream",
     "text": [
      "6\n"
     ]
    }
   ],
   "source": [
    "arr= np.arange(1,4,1) #si empiezo en 0 sale 0\n",
    "arr\n",
    "resultado = np.prod(arr)\n",
    "print(resultado)"
   ]
  },
  {
   "cell_type": "markdown",
   "metadata": {},
   "source": [
    ">20. Comprueba si los arrays `x` e `y` son iguales elemento a elemento"
   ]
  },
  {
   "cell_type": "code",
   "execution_count": 59,
   "metadata": {},
   "outputs": [
    {
     "data": {
      "text/plain": [
       "False"
      ]
     },
     "execution_count": 59,
     "metadata": {},
     "output_type": "execute_result"
    }
   ],
   "source": [
    "arr1 = ([1,2,3])\n",
    "arr2 = ([1,2,3], [1,2,3])\n",
    "\n",
    "np.array_equiv(arr1,arr2) #True porque son los mismos elementos\n",
    "np.array_equal(arr1,arr2) #False porque no tienen la misma dimension "
   ]
  }
 ],
 "metadata": {
  "kernelspec": {
   "display_name": ".venv",
   "language": "python",
   "name": "python3"
  },
  "language_info": {
   "codemirror_mode": {
    "name": "ipython",
    "version": 3
   },
   "file_extension": ".py",
   "mimetype": "text/x-python",
   "name": "python",
   "nbconvert_exporter": "python",
   "pygments_lexer": "ipython3",
   "version": "3.11.4"
  }
 },
 "nbformat": 4,
 "nbformat_minor": 2
}
